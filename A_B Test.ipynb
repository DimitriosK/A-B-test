{
 "cells": [
  {
   "cell_type": "markdown",
   "id": "3389de41",
   "metadata": {},
   "source": [
    "## Description of the project\n",
    "* A company, hoping to increase the number of rebills and their revenue from their provided service, has decided to launch a second  way for their cutomers to cancel the service. Initially a company provided their customers only with one way of cancelling the service:\n",
    "\n",
    " 1. The customers can cancell their service via a web form.\n",
    " \n",
    " The new way of cancelling the provided service is \n",
    " \n",
    " 2. The customers are forced to cancell their service by calling to their customer service line.\n",
    "\n",
    "\n",
    "* To measure the impact of the second way of cancelling the service,  the company decided to run A/B test.\n",
    "\n",
    "* Users were randomly placed in two separate groups. In the first group, the control group, the users could cancell their service only via a web form. In the second group, the test group, the users could cancell their service only by calling the customer service line.\n",
    "\n",
    "* The results of the A/B test are stored in testSamples.csv file and transData.csv file."
   ]
  },
  {
   "cell_type": "markdown",
   "id": "dad59776",
   "metadata": {},
   "source": [
    "## Part I\n",
    "* Gather the data by reading the provided files into dataframes.\n",
    "* Assess the data:\n",
    "\n",
    "  - Check the first and the last lines of data.\n",
    "  \n",
    "  - Check the summary statistics\n",
    "  \n",
    "  - Check if there are duplicated rows in the data or missing values\n",
    "  \n",
    "* Clean the data:\n",
    "\n",
    "  - Fix the missing data if they exist\n",
    "  -  Rename the column names if needed, or the values in a column\n",
    "  - Remove duplicated rows or data if they exist \n",
    "  "
   ]
  },
  {
   "cell_type": "code",
   "execution_count": 1,
   "id": "aaaeed22",
   "metadata": {},
   "outputs": [],
   "source": [
    "# Import the required libraries\n",
    "import numpy as np\n",
    "import pandas as pd\n",
    "import matplotlib.pyplot as plt\n",
    "import seaborn as sns\n",
    "import statsmodels.api as sm\n",
    "from statsmodels.stats.proportion import proportions_ztest\n",
    "from scipy import stats\n",
    "import random\n",
    "random.seed(42)\n",
    "%matplotlib inline\n",
    "plt.style.use(\"fivethirtyeight\")\n"
   ]
  },
  {
   "cell_type": "markdown",
   "id": "abfdc993",
   "metadata": {},
   "source": [
    "## Gather data"
   ]
  },
  {
   "cell_type": "code",
   "execution_count": 2,
   "id": "dd821d3c",
   "metadata": {},
   "outputs": [],
   "source": [
    "#Gather data\n",
    "df_test=pd.read_csv('testSamples.csv')#dataframe containing sample id's and the group each\n",
    "#sample has been assigned: 1->test group,0->control group\n",
    "\n",
    "df_trans=pd.read_csv('transData.csv')"
   ]
  },
  {
   "cell_type": "markdown",
   "id": "19f96a84",
   "metadata": {},
   "source": [
    "## Assess  data"
   ]
  },
  {
   "cell_type": "code",
   "execution_count": 3,
   "id": "3c24083b",
   "metadata": {},
   "outputs": [
    {
     "data": {
      "text/html": [
       "<div>\n",
       "<style scoped>\n",
       "    .dataframe tbody tr th:only-of-type {\n",
       "        vertical-align: middle;\n",
       "    }\n",
       "\n",
       "    .dataframe tbody tr th {\n",
       "        vertical-align: top;\n",
       "    }\n",
       "\n",
       "    .dataframe thead th {\n",
       "        text-align: right;\n",
       "    }\n",
       "</style>\n",
       "<table border=\"1\" class=\"dataframe\">\n",
       "  <thead>\n",
       "    <tr style=\"text-align: right;\">\n",
       "      <th></th>\n",
       "      <th>sample_id</th>\n",
       "      <th>test_group</th>\n",
       "    </tr>\n",
       "  </thead>\n",
       "  <tbody>\n",
       "    <tr>\n",
       "      <th>0</th>\n",
       "      <td>1</td>\n",
       "      <td>0</td>\n",
       "    </tr>\n",
       "    <tr>\n",
       "      <th>1</th>\n",
       "      <td>2</td>\n",
       "      <td>1</td>\n",
       "    </tr>\n",
       "    <tr>\n",
       "      <th>2</th>\n",
       "      <td>3</td>\n",
       "      <td>0</td>\n",
       "    </tr>\n",
       "    <tr>\n",
       "      <th>3</th>\n",
       "      <td>4</td>\n",
       "      <td>1</td>\n",
       "    </tr>\n",
       "    <tr>\n",
       "      <th>4</th>\n",
       "      <td>5</td>\n",
       "      <td>1</td>\n",
       "    </tr>\n",
       "  </tbody>\n",
       "</table>\n",
       "</div>"
      ],
      "text/plain": [
       "   sample_id  test_group\n",
       "0          1           0\n",
       "1          2           1\n",
       "2          3           0\n",
       "3          4           1\n",
       "4          5           1"
      ]
     },
     "execution_count": 3,
     "metadata": {},
     "output_type": "execute_result"
    }
   ],
   "source": [
    "#Check the first and the last lines of df_test\n",
    "df_test.head()"
   ]
  },
  {
   "cell_type": "code",
   "execution_count": 4,
   "id": "20c9fa66",
   "metadata": {},
   "outputs": [
    {
     "data": {
      "text/html": [
       "<div>\n",
       "<style scoped>\n",
       "    .dataframe tbody tr th:only-of-type {\n",
       "        vertical-align: middle;\n",
       "    }\n",
       "\n",
       "    .dataframe tbody tr th {\n",
       "        vertical-align: top;\n",
       "    }\n",
       "\n",
       "    .dataframe thead th {\n",
       "        text-align: right;\n",
       "    }\n",
       "</style>\n",
       "<table border=\"1\" class=\"dataframe\">\n",
       "  <thead>\n",
       "    <tr style=\"text-align: right;\">\n",
       "      <th></th>\n",
       "      <th>sample_id</th>\n",
       "      <th>test_group</th>\n",
       "    </tr>\n",
       "  </thead>\n",
       "  <tbody>\n",
       "    <tr>\n",
       "      <th>59716</th>\n",
       "      <td>59717</td>\n",
       "      <td>0</td>\n",
       "    </tr>\n",
       "    <tr>\n",
       "      <th>59717</th>\n",
       "      <td>59718</td>\n",
       "      <td>0</td>\n",
       "    </tr>\n",
       "    <tr>\n",
       "      <th>59718</th>\n",
       "      <td>59719</td>\n",
       "      <td>1</td>\n",
       "    </tr>\n",
       "    <tr>\n",
       "      <th>59719</th>\n",
       "      <td>59720</td>\n",
       "      <td>0</td>\n",
       "    </tr>\n",
       "    <tr>\n",
       "      <th>59720</th>\n",
       "      <td>59721</td>\n",
       "      <td>0</td>\n",
       "    </tr>\n",
       "  </tbody>\n",
       "</table>\n",
       "</div>"
      ],
      "text/plain": [
       "       sample_id  test_group\n",
       "59716      59717           0\n",
       "59717      59718           0\n",
       "59718      59719           1\n",
       "59719      59720           0\n",
       "59720      59721           0"
      ]
     },
     "execution_count": 4,
     "metadata": {},
     "output_type": "execute_result"
    }
   ],
   "source": [
    "df_test.tail()"
   ]
  },
  {
   "cell_type": "code",
   "execution_count": 5,
   "id": "b2c1ae9b",
   "metadata": {},
   "outputs": [
    {
     "name": "stdout",
     "output_type": "stream",
     "text": [
      "The number of rows is 59721 and the number of columns is 2\n"
     ]
    }
   ],
   "source": [
    "#print the dimensions of of df_test\n",
    "print(f'The number of rows is {df_test.shape[0]} and the number of columns is {df_test.shape[1]}')"
   ]
  },
  {
   "cell_type": "code",
   "execution_count": 6,
   "id": "a2b93dd1",
   "metadata": {},
   "outputs": [
    {
     "data": {
      "text/html": [
       "<div>\n",
       "<style scoped>\n",
       "    .dataframe tbody tr th:only-of-type {\n",
       "        vertical-align: middle;\n",
       "    }\n",
       "\n",
       "    .dataframe tbody tr th {\n",
       "        vertical-align: top;\n",
       "    }\n",
       "\n",
       "    .dataframe thead th {\n",
       "        text-align: right;\n",
       "    }\n",
       "</style>\n",
       "<table border=\"1\" class=\"dataframe\">\n",
       "  <thead>\n",
       "    <tr style=\"text-align: right;\">\n",
       "      <th></th>\n",
       "      <th>transaction_id</th>\n",
       "      <th>sample_id</th>\n",
       "      <th>transaction_type</th>\n",
       "      <th>transaction_amount</th>\n",
       "    </tr>\n",
       "  </thead>\n",
       "  <tbody>\n",
       "    <tr>\n",
       "      <th>0</th>\n",
       "      <td>52346326</td>\n",
       "      <td>11</td>\n",
       "      <td>REBILL</td>\n",
       "      <td>24.95</td>\n",
       "    </tr>\n",
       "    <tr>\n",
       "      <th>1</th>\n",
       "      <td>52346327</td>\n",
       "      <td>11</td>\n",
       "      <td>REBILL</td>\n",
       "      <td>24.95</td>\n",
       "    </tr>\n",
       "    <tr>\n",
       "      <th>2</th>\n",
       "      <td>52346328</td>\n",
       "      <td>32</td>\n",
       "      <td>REBILL</td>\n",
       "      <td>29.95</td>\n",
       "    </tr>\n",
       "    <tr>\n",
       "      <th>3</th>\n",
       "      <td>52346329</td>\n",
       "      <td>32</td>\n",
       "      <td>REBILL</td>\n",
       "      <td>29.95</td>\n",
       "    </tr>\n",
       "    <tr>\n",
       "      <th>4</th>\n",
       "      <td>52346330</td>\n",
       "      <td>32</td>\n",
       "      <td>REBILL</td>\n",
       "      <td>29.95</td>\n",
       "    </tr>\n",
       "  </tbody>\n",
       "</table>\n",
       "</div>"
      ],
      "text/plain": [
       "   transaction_id  sample_id transaction_type  transaction_amount\n",
       "0        52346326         11           REBILL               24.95\n",
       "1        52346327         11           REBILL               24.95\n",
       "2        52346328         32           REBILL               29.95\n",
       "3        52346329         32           REBILL               29.95\n",
       "4        52346330         32           REBILL               29.95"
      ]
     },
     "execution_count": 6,
     "metadata": {},
     "output_type": "execute_result"
    }
   ],
   "source": [
    "# Let's do the same thing for df_trans\n",
    "df_trans.head() #prints the first lines"
   ]
  },
  {
   "cell_type": "code",
   "execution_count": 7,
   "id": "9bc4f0ce",
   "metadata": {},
   "outputs": [
    {
     "data": {
      "text/html": [
       "<div>\n",
       "<style scoped>\n",
       "    .dataframe tbody tr th:only-of-type {\n",
       "        vertical-align: middle;\n",
       "    }\n",
       "\n",
       "    .dataframe tbody tr th {\n",
       "        vertical-align: top;\n",
       "    }\n",
       "\n",
       "    .dataframe thead th {\n",
       "        text-align: right;\n",
       "    }\n",
       "</style>\n",
       "<table border=\"1\" class=\"dataframe\">\n",
       "  <thead>\n",
       "    <tr style=\"text-align: right;\">\n",
       "      <th></th>\n",
       "      <th>transaction_id</th>\n",
       "      <th>sample_id</th>\n",
       "      <th>transaction_type</th>\n",
       "      <th>transaction_amount</th>\n",
       "    </tr>\n",
       "  </thead>\n",
       "  <tbody>\n",
       "    <tr>\n",
       "      <th>7425</th>\n",
       "      <td>52353751</td>\n",
       "      <td>59654</td>\n",
       "      <td>REBILL</td>\n",
       "      <td>39.95</td>\n",
       "    </tr>\n",
       "    <tr>\n",
       "      <th>7426</th>\n",
       "      <td>52353752</td>\n",
       "      <td>59654</td>\n",
       "      <td>REBILL</td>\n",
       "      <td>39.95</td>\n",
       "    </tr>\n",
       "    <tr>\n",
       "      <th>7427</th>\n",
       "      <td>52353753</td>\n",
       "      <td>59689</td>\n",
       "      <td>REBILL</td>\n",
       "      <td>24.95</td>\n",
       "    </tr>\n",
       "    <tr>\n",
       "      <th>7428</th>\n",
       "      <td>52353754</td>\n",
       "      <td>59689</td>\n",
       "      <td>REBILL</td>\n",
       "      <td>24.95</td>\n",
       "    </tr>\n",
       "    <tr>\n",
       "      <th>7429</th>\n",
       "      <td>52353755</td>\n",
       "      <td>59694</td>\n",
       "      <td>REBILL</td>\n",
       "      <td>24.95</td>\n",
       "    </tr>\n",
       "  </tbody>\n",
       "</table>\n",
       "</div>"
      ],
      "text/plain": [
       "      transaction_id  sample_id transaction_type  transaction_amount\n",
       "7425        52353751      59654           REBILL               39.95\n",
       "7426        52353752      59654           REBILL               39.95\n",
       "7427        52353753      59689           REBILL               24.95\n",
       "7428        52353754      59689           REBILL               24.95\n",
       "7429        52353755      59694           REBILL               24.95"
      ]
     },
     "execution_count": 7,
     "metadata": {},
     "output_type": "execute_result"
    }
   ],
   "source": [
    "df_trans.tail()"
   ]
  },
  {
   "cell_type": "code",
   "execution_count": 8,
   "id": "677c2680",
   "metadata": {},
   "outputs": [
    {
     "name": "stdout",
     "output_type": "stream",
     "text": [
      "The number of rows is 7430 and the number of columns is 4\n"
     ]
    }
   ],
   "source": [
    "#print the dimensions of df_trans\n",
    "print(f'The number of rows is {df_trans.shape[0]} and the number of columns is {df_trans.shape[1]}')"
   ]
  },
  {
   "cell_type": "code",
   "execution_count": 9,
   "id": "d6ede2ea",
   "metadata": {},
   "outputs": [
    {
     "name": "stdout",
     "output_type": "stream",
     "text": [
      "The number of unique sample_id's in df_test is 59721 but the number of unique sample_id's in df_trans is 2714\n"
     ]
    }
   ],
   "source": [
    "#Let's compare of number of unique sample_id from df_test and df_trans\n",
    "print(f'The number of unique sample_id\\'s in df_test is {df_test.sample_id.nunique()}\\\n",
    " but the number of unique sample_id\\'s in df_trans is {df_trans.sample_id.nunique()}')"
   ]
  },
  {
   "cell_type": "code",
   "execution_count": 10,
   "id": "f8a05e69",
   "metadata": {},
   "outputs": [
    {
     "name": "stdout",
     "output_type": "stream",
     "text": [
      "<class 'pandas.core.frame.DataFrame'>\n",
      "RangeIndex: 59721 entries, 0 to 59720\n",
      "Data columns (total 2 columns):\n",
      " #   Column      Non-Null Count  Dtype\n",
      "---  ------      --------------  -----\n",
      " 0   sample_id   59721 non-null  int64\n",
      " 1   test_group  59721 non-null  int64\n",
      "dtypes: int64(2)\n",
      "memory usage: 933.3 KB\n"
     ]
    }
   ],
   "source": [
    "#Let'check if there are missing values  in df_test. Also, we will see the dtype as well\n",
    "df_test.info()# We can see below that there are no missing values"
   ]
  },
  {
   "cell_type": "code",
   "execution_count": 11,
   "id": "277eec7e",
   "metadata": {},
   "outputs": [
    {
     "name": "stdout",
     "output_type": "stream",
     "text": [
      "<class 'pandas.core.frame.DataFrame'>\n",
      "RangeIndex: 7430 entries, 0 to 7429\n",
      "Data columns (total 4 columns):\n",
      " #   Column              Non-Null Count  Dtype  \n",
      "---  ------              --------------  -----  \n",
      " 0   transaction_id      7430 non-null   int64  \n",
      " 1   sample_id           7430 non-null   int64  \n",
      " 2   transaction_type    7430 non-null   object \n",
      " 3   transaction_amount  7430 non-null   float64\n",
      "dtypes: float64(1), int64(2), object(1)\n",
      "memory usage: 232.3+ KB\n"
     ]
    }
   ],
   "source": [
    "#Let'check if there are missing values  in df_trans. Also, we will see the dtype as well\n",
    "df_trans.info()# There are no missing values"
   ]
  },
  {
   "cell_type": "code",
   "execution_count": 12,
   "id": "0f83f2d1",
   "metadata": {},
   "outputs": [
    {
     "data": {
      "text/plain": [
       "str"
      ]
     },
     "execution_count": 12,
     "metadata": {},
     "output_type": "execute_result"
    }
   ],
   "source": [
    "type(df_trans.loc[0,\"transaction_type\"])#the object dtype in transaaction_type is a string"
   ]
  },
  {
   "cell_type": "code",
   "execution_count": 13,
   "id": "8cb521cb",
   "metadata": {},
   "outputs": [
    {
     "name": "stdout",
     "output_type": "stream",
     "text": [
      "The dataframe does not have duplicated rows\n"
     ]
    }
   ],
   "source": [
    "#Let'check for duplicated rows in df_test\n",
    "if (df_test.duplicated()==False).sum()==df_test.shape[0]:\n",
    "    print(\"The dataframe does not have duplicated rows\")\n",
    "else:\n",
    "    print('The dataframe has duplicated rows')"
   ]
  },
  {
   "cell_type": "code",
   "execution_count": 14,
   "id": "ccd4cc8b",
   "metadata": {},
   "outputs": [
    {
     "name": "stdout",
     "output_type": "stream",
     "text": [
      "The dataframe does not have duplicated rows\n"
     ]
    }
   ],
   "source": [
    "#Let'check for duplicated rows in df_trans\n",
    "if (df_trans.duplicated()==False).sum()==df_trans.shape[0]:\n",
    "    print(\"The dataframe does not have duplicated rows\")\n",
    "else:\n",
    "    print('The dataframe has duplicated rows')"
   ]
  },
  {
   "cell_type": "code",
   "execution_count": 15,
   "id": "39bf47c8",
   "metadata": {},
   "outputs": [
    {
     "data": {
      "text/html": [
       "<div>\n",
       "<style scoped>\n",
       "    .dataframe tbody tr th:only-of-type {\n",
       "        vertical-align: middle;\n",
       "    }\n",
       "\n",
       "    .dataframe tbody tr th {\n",
       "        vertical-align: top;\n",
       "    }\n",
       "\n",
       "    .dataframe thead th {\n",
       "        text-align: right;\n",
       "    }\n",
       "</style>\n",
       "<table border=\"1\" class=\"dataframe\">\n",
       "  <thead>\n",
       "    <tr style=\"text-align: right;\">\n",
       "      <th></th>\n",
       "      <th>test_group</th>\n",
       "    </tr>\n",
       "    <tr>\n",
       "      <th>test_group</th>\n",
       "      <th></th>\n",
       "    </tr>\n",
       "  </thead>\n",
       "  <tbody>\n",
       "    <tr>\n",
       "      <th>0</th>\n",
       "      <td>44886</td>\n",
       "    </tr>\n",
       "    <tr>\n",
       "      <th>1</th>\n",
       "      <td>14835</td>\n",
       "    </tr>\n",
       "  </tbody>\n",
       "</table>\n",
       "</div>"
      ],
      "text/plain": [
       "            test_group\n",
       "test_group            \n",
       "0                44886\n",
       "1                14835"
      ]
     },
     "execution_count": 15,
     "metadata": {},
     "output_type": "execute_result"
    }
   ],
   "source": [
    "#Let's investigate the df_test further. We want to see the number of people in each group\n",
    "df_test.groupby(by=['test_group']).agg({'test_group':'count'}) # control group has more people"
   ]
  },
  {
   "cell_type": "code",
   "execution_count": 16,
   "id": "59066d0d",
   "metadata": {},
   "outputs": [
    {
     "data": {
      "text/plain": [
       "0    44886\n",
       "1    14835\n",
       "Name: test_group, dtype: int64"
      ]
     },
     "execution_count": 16,
     "metadata": {},
     "output_type": "execute_result"
    }
   ],
   "source": [
    "#We could get the above numbers with value_counts\n",
    "df_test.test_group.value_counts()"
   ]
  },
  {
   "cell_type": "code",
   "execution_count": 17,
   "id": "a7569d4b",
   "metadata": {},
   "outputs": [
    {
     "data": {
      "text/plain": [
       "REBILL        6961\n",
       "REFUND         306\n",
       "CHARGEBACK     163\n",
       "Name: transaction_type, dtype: int64"
      ]
     },
     "execution_count": 17,
     "metadata": {},
     "output_type": "execute_result"
    }
   ],
   "source": [
    "#Let's check how many types of transactions  in df_trans\n",
    "df_trans['transaction_type'].value_counts()"
   ]
  },
  {
   "cell_type": "code",
   "execution_count": 18,
   "id": "de6258ae",
   "metadata": {},
   "outputs": [
    {
     "name": "stdout",
     "output_type": "stream",
     "text": [
      "All the transaction_ids are distinct\n"
     ]
    }
   ],
   "source": [
    "#Number of unique transaction_id's in df_trans\n",
    "if df_trans.transaction_id.nunique()==df_trans.shape[0]:\n",
    "    print('All the transaction_ids are distinct')\n",
    "else:\n",
    "    print(f'The transaction_id\\'s are not unique and the number of uniques id\\'s is {df_trans.transaction_id.nunique()}')"
   ]
  },
  {
   "cell_type": "code",
   "execution_count": 19,
   "id": "da1cbd39",
   "metadata": {},
   "outputs": [
    {
     "data": {
      "text/html": [
       "<div>\n",
       "<style scoped>\n",
       "    .dataframe tbody tr th:only-of-type {\n",
       "        vertical-align: middle;\n",
       "    }\n",
       "\n",
       "    .dataframe tbody tr th {\n",
       "        vertical-align: top;\n",
       "    }\n",
       "\n",
       "    .dataframe thead th {\n",
       "        text-align: right;\n",
       "    }\n",
       "</style>\n",
       "<table border=\"1\" class=\"dataframe\">\n",
       "  <thead>\n",
       "    <tr style=\"text-align: right;\">\n",
       "      <th></th>\n",
       "      <th>transaction_type</th>\n",
       "      <th>transaction_amount</th>\n",
       "    </tr>\n",
       "  </thead>\n",
       "  <tbody>\n",
       "    <tr>\n",
       "      <th>count</th>\n",
       "      <td>7430</td>\n",
       "      <td>7430.000000</td>\n",
       "    </tr>\n",
       "    <tr>\n",
       "      <th>unique</th>\n",
       "      <td>3</td>\n",
       "      <td>NaN</td>\n",
       "    </tr>\n",
       "    <tr>\n",
       "      <th>top</th>\n",
       "      <td>REBILL</td>\n",
       "      <td>NaN</td>\n",
       "    </tr>\n",
       "    <tr>\n",
       "      <th>freq</th>\n",
       "      <td>6961</td>\n",
       "      <td>NaN</td>\n",
       "    </tr>\n",
       "    <tr>\n",
       "      <th>mean</th>\n",
       "      <td>NaN</td>\n",
       "      <td>24.935720</td>\n",
       "    </tr>\n",
       "    <tr>\n",
       "      <th>std</th>\n",
       "      <td>NaN</td>\n",
       "      <td>15.050653</td>\n",
       "    </tr>\n",
       "    <tr>\n",
       "      <th>min</th>\n",
       "      <td>NaN</td>\n",
       "      <td>-39.950000</td>\n",
       "    </tr>\n",
       "    <tr>\n",
       "      <th>25%</th>\n",
       "      <td>NaN</td>\n",
       "      <td>24.950000</td>\n",
       "    </tr>\n",
       "    <tr>\n",
       "      <th>50%</th>\n",
       "      <td>NaN</td>\n",
       "      <td>24.950000</td>\n",
       "    </tr>\n",
       "    <tr>\n",
       "      <th>75%</th>\n",
       "      <td>NaN</td>\n",
       "      <td>32.950000</td>\n",
       "    </tr>\n",
       "    <tr>\n",
       "      <th>max</th>\n",
       "      <td>NaN</td>\n",
       "      <td>39.950000</td>\n",
       "    </tr>\n",
       "  </tbody>\n",
       "</table>\n",
       "</div>"
      ],
      "text/plain": [
       "       transaction_type  transaction_amount\n",
       "count              7430         7430.000000\n",
       "unique                3                 NaN\n",
       "top              REBILL                 NaN\n",
       "freq               6961                 NaN\n",
       "mean                NaN           24.935720\n",
       "std                 NaN           15.050653\n",
       "min                 NaN          -39.950000\n",
       "25%                 NaN           24.950000\n",
       "50%                 NaN           24.950000\n",
       "75%                 NaN           32.950000\n",
       "max                 NaN           39.950000"
      ]
     },
     "execution_count": 19,
     "metadata": {},
     "output_type": "execute_result"
    }
   ],
   "source": [
    "#Let's check some summary statistics of transaction_type and transaction_amount\n",
    "df_trans[['transaction_type','transaction_amount']].describe(include='all')"
   ]
  },
  {
   "cell_type": "code",
   "execution_count": 20,
   "id": "5922690c",
   "metadata": {},
   "outputs": [
    {
     "data": {
      "text/html": [
       "<div>\n",
       "<style scoped>\n",
       "    .dataframe tbody tr th:only-of-type {\n",
       "        vertical-align: middle;\n",
       "    }\n",
       "\n",
       "    .dataframe tbody tr th {\n",
       "        vertical-align: top;\n",
       "    }\n",
       "\n",
       "    .dataframe thead tr th {\n",
       "        text-align: left;\n",
       "    }\n",
       "\n",
       "    .dataframe thead tr:last-of-type th {\n",
       "        text-align: right;\n",
       "    }\n",
       "</style>\n",
       "<table border=\"1\" class=\"dataframe\">\n",
       "  <thead>\n",
       "    <tr>\n",
       "      <th></th>\n",
       "      <th colspan=\"4\" halign=\"left\">transaction_amount</th>\n",
       "    </tr>\n",
       "    <tr>\n",
       "      <th></th>\n",
       "      <th>mean</th>\n",
       "      <th>median</th>\n",
       "      <th>max</th>\n",
       "      <th>min</th>\n",
       "    </tr>\n",
       "    <tr>\n",
       "      <th>transaction_type</th>\n",
       "      <th></th>\n",
       "      <th></th>\n",
       "      <th></th>\n",
       "      <th></th>\n",
       "    </tr>\n",
       "  </thead>\n",
       "  <tbody>\n",
       "    <tr>\n",
       "      <th>CHARGEBACK</th>\n",
       "      <td>-28.103374</td>\n",
       "      <td>-24.95</td>\n",
       "      <td>-19.95</td>\n",
       "      <td>-39.95</td>\n",
       "    </tr>\n",
       "    <tr>\n",
       "      <th>REBILL</th>\n",
       "      <td>28.477079</td>\n",
       "      <td>24.95</td>\n",
       "      <td>39.95</td>\n",
       "      <td>19.95</td>\n",
       "    </tr>\n",
       "    <tr>\n",
       "      <th>REFUND</th>\n",
       "      <td>-27.371569</td>\n",
       "      <td>-24.95</td>\n",
       "      <td>-19.95</td>\n",
       "      <td>-39.95</td>\n",
       "    </tr>\n",
       "  </tbody>\n",
       "</table>\n",
       "</div>"
      ],
      "text/plain": [
       "                 transaction_amount                     \n",
       "                               mean median    max    min\n",
       "transaction_type                                        \n",
       "CHARGEBACK               -28.103374 -24.95 -19.95 -39.95\n",
       "REBILL                    28.477079  24.95  39.95  19.95\n",
       "REFUND                   -27.371569 -24.95 -19.95 -39.95"
      ]
     },
     "execution_count": 20,
     "metadata": {},
     "output_type": "execute_result"
    }
   ],
   "source": [
    "#Let's check some summary statistics of transaction_amount for each group of transaction_type\n",
    "df_trans.groupby(by=['transaction_type']).agg({'transaction_amount':\n",
    "                                               ['mean','median','max','min']})\n",
    "# We can see that the transaction amount is compatible with each group of transaction_type"
   ]
  },
  {
   "cell_type": "markdown",
   "id": "357c18b3",
   "metadata": {},
   "source": [
    "## Cleaning data\n",
    "\n",
    "* Merge df_test and df_trans on `sample_id` and call the new dataframe by df\n",
    "* Copy df and call the new dataframe by df_clean\n",
    "* Rename the column test_group as group. Rename the value 0 as a control group and 1 as a test group\n",
    "* Change the dtype of `sample_id` to a  string\n",
    "* The entries in the column `transaction_type` should be in lowercase letters\n",
    "* Revisit the concept of duplicated entries"
   ]
  },
  {
   "cell_type": "code",
   "execution_count": 21,
   "id": "1e7880bc",
   "metadata": {},
   "outputs": [],
   "source": [
    "#Merge two dataframes\n",
    "df=df_test.merge(df_trans,on='sample_id', how='inner')"
   ]
  },
  {
   "cell_type": "code",
   "execution_count": 22,
   "id": "fd41c106",
   "metadata": {},
   "outputs": [],
   "source": [
    "#Copy df\n",
    "df_clean=df.copy()"
   ]
  },
  {
   "cell_type": "code",
   "execution_count": 23,
   "id": "efd64283",
   "metadata": {},
   "outputs": [],
   "source": [
    "#Rename the column test_group to group\n",
    "df_clean.rename(columns={'test_group':'group'},inplace=True)"
   ]
  },
  {
   "cell_type": "code",
   "execution_count": 24,
   "id": "89375979",
   "metadata": {},
   "outputs": [],
   "source": [
    "#Rename the entries in the column group: 0->control, 1->test\n",
    "df_clean.group=df_clean.group.apply(lambda x: 'control' if x==0 else 'test')"
   ]
  },
  {
   "cell_type": "code",
   "execution_count": 25,
   "id": "e9d7af51",
   "metadata": {},
   "outputs": [],
   "source": [
    "#Change the dtype of sample_id to str\n",
    "df_clean.sample_id=df_clean.sample_id.apply(lambda x: str(x))"
   ]
  },
  {
   "cell_type": "code",
   "execution_count": 26,
   "id": "ab0fb745",
   "metadata": {},
   "outputs": [],
   "source": [
    "#The entries in transaction type are in lowercase letters now\n",
    "df_clean.transaction_type=df_clean.transaction_type.str.lower()"
   ]
  },
  {
   "cell_type": "markdown",
   "id": "2ceeccdb",
   "metadata": {},
   "source": [
    "### Revisit the concept of duplicate entries\n",
    " Using the code below we can see that:\n",
    " - There are `sample_id`s that have the same transaction type multiple times, for example, sample_id=5493 has 22 rebills which correspond to `transaction_id`s that differ by one\n",
    " - There are `sample_id`s that have refunds multiple times, for example sample_id=48818 has two refunds and sample_id=26099 has three chargebacks\n",
    " - There are `sample_id`s that have two or more different types of transaction\n",
    " \n",
    "**Note.** There is no any reference in the provided data saying whether the data is for one billing cycle or not."
   ]
  },
  {
   "cell_type": "code",
   "execution_count": 27,
   "id": "647c1188",
   "metadata": {},
   "outputs": [
    {
     "data": {
      "text/html": [
       "<div>\n",
       "<style scoped>\n",
       "    .dataframe tbody tr th:only-of-type {\n",
       "        vertical-align: middle;\n",
       "    }\n",
       "\n",
       "    .dataframe tbody tr th {\n",
       "        vertical-align: top;\n",
       "    }\n",
       "\n",
       "    .dataframe thead th {\n",
       "        text-align: right;\n",
       "    }\n",
       "</style>\n",
       "<table border=\"1\" class=\"dataframe\">\n",
       "  <thead>\n",
       "    <tr style=\"text-align: right;\">\n",
       "      <th></th>\n",
       "      <th>sample_id</th>\n",
       "      <th>transaction_type</th>\n",
       "      <th>count</th>\n",
       "    </tr>\n",
       "  </thead>\n",
       "  <tbody>\n",
       "    <tr>\n",
       "      <th>2293</th>\n",
       "      <td>5493</td>\n",
       "      <td>rebill</td>\n",
       "      <td>22</td>\n",
       "    </tr>\n",
       "    <tr>\n",
       "      <th>79</th>\n",
       "      <td>11424</td>\n",
       "      <td>rebill</td>\n",
       "      <td>19</td>\n",
       "    </tr>\n",
       "    <tr>\n",
       "      <th>1975</th>\n",
       "      <td>49077</td>\n",
       "      <td>rebill</td>\n",
       "      <td>18</td>\n",
       "    </tr>\n",
       "    <tr>\n",
       "      <th>2049</th>\n",
       "      <td>50361</td>\n",
       "      <td>rebill</td>\n",
       "      <td>18</td>\n",
       "    </tr>\n",
       "    <tr>\n",
       "      <th>885</th>\n",
       "      <td>27713</td>\n",
       "      <td>rebill</td>\n",
       "      <td>18</td>\n",
       "    </tr>\n",
       "    <tr>\n",
       "      <th>...</th>\n",
       "      <td>...</td>\n",
       "      <td>...</td>\n",
       "      <td>...</td>\n",
       "    </tr>\n",
       "    <tr>\n",
       "      <th>1845</th>\n",
       "      <td>46612</td>\n",
       "      <td>rebill</td>\n",
       "      <td>1</td>\n",
       "    </tr>\n",
       "    <tr>\n",
       "      <th>798</th>\n",
       "      <td>26119</td>\n",
       "      <td>rebill</td>\n",
       "      <td>1</td>\n",
       "    </tr>\n",
       "    <tr>\n",
       "      <th>1843</th>\n",
       "      <td>46531</td>\n",
       "      <td>rebill</td>\n",
       "      <td>1</td>\n",
       "    </tr>\n",
       "    <tr>\n",
       "      <th>804</th>\n",
       "      <td>26185</td>\n",
       "      <td>rebill</td>\n",
       "      <td>1</td>\n",
       "    </tr>\n",
       "    <tr>\n",
       "      <th>0</th>\n",
       "      <td>10003</td>\n",
       "      <td>rebill</td>\n",
       "      <td>1</td>\n",
       "    </tr>\n",
       "  </tbody>\n",
       "</table>\n",
       "<p>2725 rows × 3 columns</p>\n",
       "</div>"
      ],
      "text/plain": [
       "     sample_id transaction_type  count\n",
       "2293      5493           rebill     22\n",
       "79       11424           rebill     19\n",
       "1975     49077           rebill     18\n",
       "2049     50361           rebill     18\n",
       "885      27713           rebill     18\n",
       "...        ...              ...    ...\n",
       "1845     46612           rebill      1\n",
       "798      26119           rebill      1\n",
       "1843     46531           rebill      1\n",
       "804      26185           rebill      1\n",
       "0        10003           rebill      1\n",
       "\n",
       "[2725 rows x 3 columns]"
      ]
     },
     "execution_count": 27,
     "metadata": {},
     "output_type": "execute_result"
    }
   ],
   "source": [
    "#Find all the sample_ids with multiple transaction types\n",
    "df_clean_gby=df_clean.groupby(by=['sample_id','transaction_type']).agg({'transaction_id':'count'}).reset_index()\n",
    "df_clean_gby.sort_values(by='transaction_id',ascending=False).rename(columns={'transaction_id':'count'})"
   ]
  },
  {
   "cell_type": "code",
   "execution_count": 28,
   "id": "de7cbe0b",
   "metadata": {},
   "outputs": [
    {
     "data": {
      "text/html": [
       "<div>\n",
       "<style scoped>\n",
       "    .dataframe tbody tr th:only-of-type {\n",
       "        vertical-align: middle;\n",
       "    }\n",
       "\n",
       "    .dataframe tbody tr th {\n",
       "        vertical-align: top;\n",
       "    }\n",
       "\n",
       "    .dataframe thead th {\n",
       "        text-align: right;\n",
       "    }\n",
       "</style>\n",
       "<table border=\"1\" class=\"dataframe\">\n",
       "  <thead>\n",
       "    <tr style=\"text-align: right;\">\n",
       "      <th></th>\n",
       "      <th>sample_id</th>\n",
       "      <th>transaction_type</th>\n",
       "      <th>transaction_amount</th>\n",
       "      <th>transaction_id</th>\n",
       "    </tr>\n",
       "  </thead>\n",
       "  <tbody>\n",
       "    <tr>\n",
       "      <th>6018</th>\n",
       "      <td>48818</td>\n",
       "      <td>refund</td>\n",
       "      <td>-24.95</td>\n",
       "      <td>52352344</td>\n",
       "    </tr>\n",
       "    <tr>\n",
       "      <th>6019</th>\n",
       "      <td>48818</td>\n",
       "      <td>refund</td>\n",
       "      <td>-24.95</td>\n",
       "      <td>52352345</td>\n",
       "    </tr>\n",
       "  </tbody>\n",
       "</table>\n",
       "</div>"
      ],
      "text/plain": [
       "     sample_id transaction_type  transaction_amount  transaction_id\n",
       "6018     48818           refund              -24.95        52352344\n",
       "6019     48818           refund              -24.95        52352345"
      ]
     },
     "execution_count": 28,
     "metadata": {},
     "output_type": "execute_result"
    }
   ],
   "source": [
    "#The sample_id=48818 has two refunds only\n",
    "mask=df_clean['sample_id']=='48818'\n",
    "df_clean.loc[mask,['sample_id','transaction_type','transaction_amount','transaction_id']]"
   ]
  },
  {
   "cell_type": "code",
   "execution_count": 29,
   "id": "d5419b90",
   "metadata": {},
   "outputs": [
    {
     "data": {
      "text/html": [
       "<div>\n",
       "<style scoped>\n",
       "    .dataframe tbody tr th:only-of-type {\n",
       "        vertical-align: middle;\n",
       "    }\n",
       "\n",
       "    .dataframe tbody tr th {\n",
       "        vertical-align: top;\n",
       "    }\n",
       "\n",
       "    .dataframe thead th {\n",
       "        text-align: right;\n",
       "    }\n",
       "</style>\n",
       "<table border=\"1\" class=\"dataframe\">\n",
       "  <thead>\n",
       "    <tr style=\"text-align: right;\">\n",
       "      <th></th>\n",
       "      <th>sample_id</th>\n",
       "      <th>transaction_type</th>\n",
       "      <th>transaction_id</th>\n",
       "    </tr>\n",
       "  </thead>\n",
       "  <tbody>\n",
       "    <tr>\n",
       "      <th>624</th>\n",
       "      <td>5493</td>\n",
       "      <td>rebill</td>\n",
       "      <td>52346950</td>\n",
       "    </tr>\n",
       "    <tr>\n",
       "      <th>625</th>\n",
       "      <td>5493</td>\n",
       "      <td>rebill</td>\n",
       "      <td>52346951</td>\n",
       "    </tr>\n",
       "    <tr>\n",
       "      <th>626</th>\n",
       "      <td>5493</td>\n",
       "      <td>rebill</td>\n",
       "      <td>52346952</td>\n",
       "    </tr>\n",
       "    <tr>\n",
       "      <th>627</th>\n",
       "      <td>5493</td>\n",
       "      <td>rebill</td>\n",
       "      <td>52346953</td>\n",
       "    </tr>\n",
       "    <tr>\n",
       "      <th>628</th>\n",
       "      <td>5493</td>\n",
       "      <td>rebill</td>\n",
       "      <td>52346954</td>\n",
       "    </tr>\n",
       "    <tr>\n",
       "      <th>629</th>\n",
       "      <td>5493</td>\n",
       "      <td>rebill</td>\n",
       "      <td>52346955</td>\n",
       "    </tr>\n",
       "    <tr>\n",
       "      <th>630</th>\n",
       "      <td>5493</td>\n",
       "      <td>rebill</td>\n",
       "      <td>52346956</td>\n",
       "    </tr>\n",
       "    <tr>\n",
       "      <th>631</th>\n",
       "      <td>5493</td>\n",
       "      <td>rebill</td>\n",
       "      <td>52346957</td>\n",
       "    </tr>\n",
       "    <tr>\n",
       "      <th>632</th>\n",
       "      <td>5493</td>\n",
       "      <td>rebill</td>\n",
       "      <td>52346958</td>\n",
       "    </tr>\n",
       "    <tr>\n",
       "      <th>633</th>\n",
       "      <td>5493</td>\n",
       "      <td>rebill</td>\n",
       "      <td>52346959</td>\n",
       "    </tr>\n",
       "    <tr>\n",
       "      <th>634</th>\n",
       "      <td>5493</td>\n",
       "      <td>rebill</td>\n",
       "      <td>52346960</td>\n",
       "    </tr>\n",
       "    <tr>\n",
       "      <th>635</th>\n",
       "      <td>5493</td>\n",
       "      <td>rebill</td>\n",
       "      <td>52346961</td>\n",
       "    </tr>\n",
       "    <tr>\n",
       "      <th>636</th>\n",
       "      <td>5493</td>\n",
       "      <td>rebill</td>\n",
       "      <td>52346962</td>\n",
       "    </tr>\n",
       "    <tr>\n",
       "      <th>637</th>\n",
       "      <td>5493</td>\n",
       "      <td>rebill</td>\n",
       "      <td>52346963</td>\n",
       "    </tr>\n",
       "    <tr>\n",
       "      <th>638</th>\n",
       "      <td>5493</td>\n",
       "      <td>rebill</td>\n",
       "      <td>52346964</td>\n",
       "    </tr>\n",
       "    <tr>\n",
       "      <th>639</th>\n",
       "      <td>5493</td>\n",
       "      <td>rebill</td>\n",
       "      <td>52346965</td>\n",
       "    </tr>\n",
       "    <tr>\n",
       "      <th>640</th>\n",
       "      <td>5493</td>\n",
       "      <td>rebill</td>\n",
       "      <td>52346966</td>\n",
       "    </tr>\n",
       "    <tr>\n",
       "      <th>641</th>\n",
       "      <td>5493</td>\n",
       "      <td>rebill</td>\n",
       "      <td>52346967</td>\n",
       "    </tr>\n",
       "    <tr>\n",
       "      <th>642</th>\n",
       "      <td>5493</td>\n",
       "      <td>rebill</td>\n",
       "      <td>52346968</td>\n",
       "    </tr>\n",
       "    <tr>\n",
       "      <th>643</th>\n",
       "      <td>5493</td>\n",
       "      <td>rebill</td>\n",
       "      <td>52346969</td>\n",
       "    </tr>\n",
       "    <tr>\n",
       "      <th>644</th>\n",
       "      <td>5493</td>\n",
       "      <td>rebill</td>\n",
       "      <td>52346970</td>\n",
       "    </tr>\n",
       "    <tr>\n",
       "      <th>645</th>\n",
       "      <td>5493</td>\n",
       "      <td>rebill</td>\n",
       "      <td>52346971</td>\n",
       "    </tr>\n",
       "  </tbody>\n",
       "</table>\n",
       "</div>"
      ],
      "text/plain": [
       "    sample_id transaction_type  transaction_id\n",
       "624      5493           rebill        52346950\n",
       "625      5493           rebill        52346951\n",
       "626      5493           rebill        52346952\n",
       "627      5493           rebill        52346953\n",
       "628      5493           rebill        52346954\n",
       "629      5493           rebill        52346955\n",
       "630      5493           rebill        52346956\n",
       "631      5493           rebill        52346957\n",
       "632      5493           rebill        52346958\n",
       "633      5493           rebill        52346959\n",
       "634      5493           rebill        52346960\n",
       "635      5493           rebill        52346961\n",
       "636      5493           rebill        52346962\n",
       "637      5493           rebill        52346963\n",
       "638      5493           rebill        52346964\n",
       "639      5493           rebill        52346965\n",
       "640      5493           rebill        52346966\n",
       "641      5493           rebill        52346967\n",
       "642      5493           rebill        52346968\n",
       "643      5493           rebill        52346969\n",
       "644      5493           rebill        52346970\n",
       "645      5493           rebill        52346971"
      ]
     },
     "execution_count": 29,
     "metadata": {},
     "output_type": "execute_result"
    }
   ],
   "source": [
    "mask=df_clean['sample_id']=='5493'\n",
    "df_clean.loc[mask,['sample_id','transaction_type','transaction_id']]"
   ]
  },
  {
   "cell_type": "code",
   "execution_count": 30,
   "id": "60f79e50",
   "metadata": {},
   "outputs": [
    {
     "name": "stdout",
     "output_type": "stream",
     "text": [
      "There are sample_ids that have two or more different transaction types\n"
     ]
    }
   ],
   "source": [
    "#There are  sample_ids that have two or more different transaction types\n",
    "rows=df_clean_gby.rename(columns={'transaction_id':'count'}).shape[0]\n",
    "if df_clean_gby.duplicated(subset=['sample_id']).sum()==0:\n",
    "    print('There are no sample_ids that have two or more different transaction types')\n",
    "else:\n",
    "    print('There are sample_ids that have two or more different transaction types')"
   ]
  },
  {
   "cell_type": "markdown",
   "id": "fa31741d",
   "metadata": {},
   "source": [
    "**The code below shows the `sample_ids` that have two or more different transaction types**"
   ]
  },
  {
   "cell_type": "code",
   "execution_count": 31,
   "id": "536da3c4",
   "metadata": {},
   "outputs": [
    {
     "data": {
      "text/plain": [
       "15909    2\n",
       "7338     2\n",
       "24982    2\n",
       "18430    2\n",
       "17305    2\n",
       "        ..\n",
       "58534    1\n",
       "22162    1\n",
       "56210    1\n",
       "9964     1\n",
       "50568    1\n",
       "Name: sample_id, Length: 2714, dtype: int64"
      ]
     },
     "execution_count": 31,
     "metadata": {},
     "output_type": "execute_result"
    }
   ],
   "source": [
    "#Below you can see the sample_ids that have two or more different transaction types \n",
    "#(the ones with freq=2)\n",
    "df_clean_gby.sample_id.value_counts(ascending=False)"
   ]
  },
  {
   "cell_type": "code",
   "execution_count": 32,
   "id": "008e1776",
   "metadata": {},
   "outputs": [
    {
     "data": {
      "text/html": [
       "<div>\n",
       "<style scoped>\n",
       "    .dataframe tbody tr th:only-of-type {\n",
       "        vertical-align: middle;\n",
       "    }\n",
       "\n",
       "    .dataframe tbody tr th {\n",
       "        vertical-align: top;\n",
       "    }\n",
       "\n",
       "    .dataframe thead th {\n",
       "        text-align: right;\n",
       "    }\n",
       "</style>\n",
       "<table border=\"1\" class=\"dataframe\">\n",
       "  <thead>\n",
       "    <tr style=\"text-align: right;\">\n",
       "      <th></th>\n",
       "      <th>group</th>\n",
       "      <th>transaction_id</th>\n",
       "      <th>transaction_type</th>\n",
       "      <th>transaction_amount</th>\n",
       "    </tr>\n",
       "    <tr>\n",
       "      <th>sample_id</th>\n",
       "      <th></th>\n",
       "      <th></th>\n",
       "      <th></th>\n",
       "      <th></th>\n",
       "    </tr>\n",
       "  </thead>\n",
       "  <tbody>\n",
       "    <tr>\n",
       "      <th>15909</th>\n",
       "      <td>test</td>\n",
       "      <td>52348193</td>\n",
       "      <td>rebill</td>\n",
       "      <td>24.95</td>\n",
       "    </tr>\n",
       "    <tr>\n",
       "      <th>15909</th>\n",
       "      <td>test</td>\n",
       "      <td>52348194</td>\n",
       "      <td>chargeback</td>\n",
       "      <td>-24.95</td>\n",
       "    </tr>\n",
       "    <tr>\n",
       "      <th>7338</th>\n",
       "      <td>test</td>\n",
       "      <td>52347195</td>\n",
       "      <td>rebill</td>\n",
       "      <td>29.95</td>\n",
       "    </tr>\n",
       "    <tr>\n",
       "      <th>7338</th>\n",
       "      <td>test</td>\n",
       "      <td>52347196</td>\n",
       "      <td>chargeback</td>\n",
       "      <td>-29.95</td>\n",
       "    </tr>\n",
       "    <tr>\n",
       "      <th>24982</th>\n",
       "      <td>control</td>\n",
       "      <td>52349388</td>\n",
       "      <td>rebill</td>\n",
       "      <td>32.95</td>\n",
       "    </tr>\n",
       "    <tr>\n",
       "      <th>24982</th>\n",
       "      <td>control</td>\n",
       "      <td>52349389</td>\n",
       "      <td>chargeback</td>\n",
       "      <td>-32.95</td>\n",
       "    </tr>\n",
       "    <tr>\n",
       "      <th>18430</th>\n",
       "      <td>control</td>\n",
       "      <td>52348540</td>\n",
       "      <td>rebill</td>\n",
       "      <td>24.95</td>\n",
       "    </tr>\n",
       "    <tr>\n",
       "      <th>18430</th>\n",
       "      <td>control</td>\n",
       "      <td>52348541</td>\n",
       "      <td>rebill</td>\n",
       "      <td>24.95</td>\n",
       "    </tr>\n",
       "    <tr>\n",
       "      <th>18430</th>\n",
       "      <td>control</td>\n",
       "      <td>52348542</td>\n",
       "      <td>rebill</td>\n",
       "      <td>24.95</td>\n",
       "    </tr>\n",
       "    <tr>\n",
       "      <th>18430</th>\n",
       "      <td>control</td>\n",
       "      <td>52348543</td>\n",
       "      <td>rebill</td>\n",
       "      <td>24.95</td>\n",
       "    </tr>\n",
       "    <tr>\n",
       "      <th>18430</th>\n",
       "      <td>control</td>\n",
       "      <td>52348544</td>\n",
       "      <td>rebill</td>\n",
       "      <td>24.95</td>\n",
       "    </tr>\n",
       "    <tr>\n",
       "      <th>18430</th>\n",
       "      <td>control</td>\n",
       "      <td>52348545</td>\n",
       "      <td>rebill</td>\n",
       "      <td>24.95</td>\n",
       "    </tr>\n",
       "    <tr>\n",
       "      <th>18430</th>\n",
       "      <td>control</td>\n",
       "      <td>52348546</td>\n",
       "      <td>chargeback</td>\n",
       "      <td>-24.95</td>\n",
       "    </tr>\n",
       "    <tr>\n",
       "      <th>18430</th>\n",
       "      <td>control</td>\n",
       "      <td>52348547</td>\n",
       "      <td>chargeback</td>\n",
       "      <td>-24.95</td>\n",
       "    </tr>\n",
       "    <tr>\n",
       "      <th>17305</th>\n",
       "      <td>test</td>\n",
       "      <td>52348350</td>\n",
       "      <td>rebill</td>\n",
       "      <td>24.95</td>\n",
       "    </tr>\n",
       "    <tr>\n",
       "      <th>17305</th>\n",
       "      <td>test</td>\n",
       "      <td>52348351</td>\n",
       "      <td>rebill</td>\n",
       "      <td>24.95</td>\n",
       "    </tr>\n",
       "    <tr>\n",
       "      <th>17305</th>\n",
       "      <td>test</td>\n",
       "      <td>52348352</td>\n",
       "      <td>rebill</td>\n",
       "      <td>24.95</td>\n",
       "    </tr>\n",
       "    <tr>\n",
       "      <th>17305</th>\n",
       "      <td>test</td>\n",
       "      <td>52348353</td>\n",
       "      <td>chargeback</td>\n",
       "      <td>-24.95</td>\n",
       "    </tr>\n",
       "    <tr>\n",
       "      <th>17305</th>\n",
       "      <td>test</td>\n",
       "      <td>52348354</td>\n",
       "      <td>chargeback</td>\n",
       "      <td>-24.95</td>\n",
       "    </tr>\n",
       "    <tr>\n",
       "      <th>25114</th>\n",
       "      <td>test</td>\n",
       "      <td>52349409</td>\n",
       "      <td>rebill</td>\n",
       "      <td>24.95</td>\n",
       "    </tr>\n",
       "    <tr>\n",
       "      <th>25114</th>\n",
       "      <td>test</td>\n",
       "      <td>52349410</td>\n",
       "      <td>rebill</td>\n",
       "      <td>24.95</td>\n",
       "    </tr>\n",
       "    <tr>\n",
       "      <th>25114</th>\n",
       "      <td>test</td>\n",
       "      <td>52349411</td>\n",
       "      <td>refund</td>\n",
       "      <td>-24.95</td>\n",
       "    </tr>\n",
       "    <tr>\n",
       "      <th>25114</th>\n",
       "      <td>test</td>\n",
       "      <td>52349412</td>\n",
       "      <td>refund</td>\n",
       "      <td>-24.95</td>\n",
       "    </tr>\n",
       "    <tr>\n",
       "      <th>29386</th>\n",
       "      <td>test</td>\n",
       "      <td>52349874</td>\n",
       "      <td>rebill</td>\n",
       "      <td>29.95</td>\n",
       "    </tr>\n",
       "    <tr>\n",
       "      <th>29386</th>\n",
       "      <td>test</td>\n",
       "      <td>52349875</td>\n",
       "      <td>chargeback</td>\n",
       "      <td>-29.95</td>\n",
       "    </tr>\n",
       "    <tr>\n",
       "      <th>35914</th>\n",
       "      <td>test</td>\n",
       "      <td>52350703</td>\n",
       "      <td>rebill</td>\n",
       "      <td>39.95</td>\n",
       "    </tr>\n",
       "    <tr>\n",
       "      <th>35914</th>\n",
       "      <td>test</td>\n",
       "      <td>52350704</td>\n",
       "      <td>rebill</td>\n",
       "      <td>39.95</td>\n",
       "    </tr>\n",
       "    <tr>\n",
       "      <th>35914</th>\n",
       "      <td>test</td>\n",
       "      <td>52350705</td>\n",
       "      <td>rebill</td>\n",
       "      <td>39.95</td>\n",
       "    </tr>\n",
       "    <tr>\n",
       "      <th>35914</th>\n",
       "      <td>test</td>\n",
       "      <td>52350706</td>\n",
       "      <td>rebill</td>\n",
       "      <td>39.95</td>\n",
       "    </tr>\n",
       "    <tr>\n",
       "      <th>35914</th>\n",
       "      <td>test</td>\n",
       "      <td>52350707</td>\n",
       "      <td>chargeback</td>\n",
       "      <td>-39.95</td>\n",
       "    </tr>\n",
       "    <tr>\n",
       "      <th>35914</th>\n",
       "      <td>test</td>\n",
       "      <td>52350708</td>\n",
       "      <td>chargeback</td>\n",
       "      <td>-39.95</td>\n",
       "    </tr>\n",
       "    <tr>\n",
       "      <th>35914</th>\n",
       "      <td>test</td>\n",
       "      <td>52350709</td>\n",
       "      <td>chargeback</td>\n",
       "      <td>-39.95</td>\n",
       "    </tr>\n",
       "    <tr>\n",
       "      <th>35914</th>\n",
       "      <td>test</td>\n",
       "      <td>52350710</td>\n",
       "      <td>chargeback</td>\n",
       "      <td>-39.95</td>\n",
       "    </tr>\n",
       "    <tr>\n",
       "      <th>36640</th>\n",
       "      <td>test</td>\n",
       "      <td>52350801</td>\n",
       "      <td>rebill</td>\n",
       "      <td>29.95</td>\n",
       "    </tr>\n",
       "    <tr>\n",
       "      <th>36640</th>\n",
       "      <td>test</td>\n",
       "      <td>52350802</td>\n",
       "      <td>rebill</td>\n",
       "      <td>29.95</td>\n",
       "    </tr>\n",
       "    <tr>\n",
       "      <th>36640</th>\n",
       "      <td>test</td>\n",
       "      <td>52350803</td>\n",
       "      <td>rebill</td>\n",
       "      <td>29.95</td>\n",
       "    </tr>\n",
       "    <tr>\n",
       "      <th>36640</th>\n",
       "      <td>test</td>\n",
       "      <td>52350804</td>\n",
       "      <td>rebill</td>\n",
       "      <td>29.95</td>\n",
       "    </tr>\n",
       "    <tr>\n",
       "      <th>36640</th>\n",
       "      <td>test</td>\n",
       "      <td>52350805</td>\n",
       "      <td>rebill</td>\n",
       "      <td>29.95</td>\n",
       "    </tr>\n",
       "    <tr>\n",
       "      <th>36640</th>\n",
       "      <td>test</td>\n",
       "      <td>52350806</td>\n",
       "      <td>rebill</td>\n",
       "      <td>29.95</td>\n",
       "    </tr>\n",
       "    <tr>\n",
       "      <th>36640</th>\n",
       "      <td>test</td>\n",
       "      <td>52350807</td>\n",
       "      <td>refund</td>\n",
       "      <td>-29.95</td>\n",
       "    </tr>\n",
       "    <tr>\n",
       "      <th>24796</th>\n",
       "      <td>control</td>\n",
       "      <td>52349341</td>\n",
       "      <td>rebill</td>\n",
       "      <td>19.95</td>\n",
       "    </tr>\n",
       "    <tr>\n",
       "      <th>24796</th>\n",
       "      <td>control</td>\n",
       "      <td>52349342</td>\n",
       "      <td>rebill</td>\n",
       "      <td>19.95</td>\n",
       "    </tr>\n",
       "    <tr>\n",
       "      <th>24796</th>\n",
       "      <td>control</td>\n",
       "      <td>52349343</td>\n",
       "      <td>rebill</td>\n",
       "      <td>19.95</td>\n",
       "    </tr>\n",
       "    <tr>\n",
       "      <th>24796</th>\n",
       "      <td>control</td>\n",
       "      <td>52349344</td>\n",
       "      <td>rebill</td>\n",
       "      <td>19.95</td>\n",
       "    </tr>\n",
       "    <tr>\n",
       "      <th>24796</th>\n",
       "      <td>control</td>\n",
       "      <td>52349345</td>\n",
       "      <td>rebill</td>\n",
       "      <td>19.95</td>\n",
       "    </tr>\n",
       "    <tr>\n",
       "      <th>24796</th>\n",
       "      <td>control</td>\n",
       "      <td>52349346</td>\n",
       "      <td>rebill</td>\n",
       "      <td>19.95</td>\n",
       "    </tr>\n",
       "    <tr>\n",
       "      <th>24796</th>\n",
       "      <td>control</td>\n",
       "      <td>52349347</td>\n",
       "      <td>rebill</td>\n",
       "      <td>19.95</td>\n",
       "    </tr>\n",
       "    <tr>\n",
       "      <th>24796</th>\n",
       "      <td>control</td>\n",
       "      <td>52349348</td>\n",
       "      <td>rebill</td>\n",
       "      <td>19.95</td>\n",
       "    </tr>\n",
       "    <tr>\n",
       "      <th>24796</th>\n",
       "      <td>control</td>\n",
       "      <td>52349349</td>\n",
       "      <td>refund</td>\n",
       "      <td>-19.95</td>\n",
       "    </tr>\n",
       "    <tr>\n",
       "      <th>35733</th>\n",
       "      <td>test</td>\n",
       "      <td>52350692</td>\n",
       "      <td>rebill</td>\n",
       "      <td>24.95</td>\n",
       "    </tr>\n",
       "    <tr>\n",
       "      <th>35733</th>\n",
       "      <td>test</td>\n",
       "      <td>52350693</td>\n",
       "      <td>chargeback</td>\n",
       "      <td>-24.95</td>\n",
       "    </tr>\n",
       "  </tbody>\n",
       "</table>\n",
       "</div>"
      ],
      "text/plain": [
       "             group  transaction_id transaction_type  transaction_amount\n",
       "sample_id                                                              \n",
       "15909         test        52348193           rebill               24.95\n",
       "15909         test        52348194       chargeback              -24.95\n",
       "7338          test        52347195           rebill               29.95\n",
       "7338          test        52347196       chargeback              -29.95\n",
       "24982      control        52349388           rebill               32.95\n",
       "24982      control        52349389       chargeback              -32.95\n",
       "18430      control        52348540           rebill               24.95\n",
       "18430      control        52348541           rebill               24.95\n",
       "18430      control        52348542           rebill               24.95\n",
       "18430      control        52348543           rebill               24.95\n",
       "18430      control        52348544           rebill               24.95\n",
       "18430      control        52348545           rebill               24.95\n",
       "18430      control        52348546       chargeback              -24.95\n",
       "18430      control        52348547       chargeback              -24.95\n",
       "17305         test        52348350           rebill               24.95\n",
       "17305         test        52348351           rebill               24.95\n",
       "17305         test        52348352           rebill               24.95\n",
       "17305         test        52348353       chargeback              -24.95\n",
       "17305         test        52348354       chargeback              -24.95\n",
       "25114         test        52349409           rebill               24.95\n",
       "25114         test        52349410           rebill               24.95\n",
       "25114         test        52349411           refund              -24.95\n",
       "25114         test        52349412           refund              -24.95\n",
       "29386         test        52349874           rebill               29.95\n",
       "29386         test        52349875       chargeback              -29.95\n",
       "35914         test        52350703           rebill               39.95\n",
       "35914         test        52350704           rebill               39.95\n",
       "35914         test        52350705           rebill               39.95\n",
       "35914         test        52350706           rebill               39.95\n",
       "35914         test        52350707       chargeback              -39.95\n",
       "35914         test        52350708       chargeback              -39.95\n",
       "35914         test        52350709       chargeback              -39.95\n",
       "35914         test        52350710       chargeback              -39.95\n",
       "36640         test        52350801           rebill               29.95\n",
       "36640         test        52350802           rebill               29.95\n",
       "36640         test        52350803           rebill               29.95\n",
       "36640         test        52350804           rebill               29.95\n",
       "36640         test        52350805           rebill               29.95\n",
       "36640         test        52350806           rebill               29.95\n",
       "36640         test        52350807           refund              -29.95\n",
       "24796      control        52349341           rebill               19.95\n",
       "24796      control        52349342           rebill               19.95\n",
       "24796      control        52349343           rebill               19.95\n",
       "24796      control        52349344           rebill               19.95\n",
       "24796      control        52349345           rebill               19.95\n",
       "24796      control        52349346           rebill               19.95\n",
       "24796      control        52349347           rebill               19.95\n",
       "24796      control        52349348           rebill               19.95\n",
       "24796      control        52349349           refund              -19.95\n",
       "35733         test        52350692           rebill               24.95\n",
       "35733         test        52350693       chargeback              -24.95"
      ]
     },
     "execution_count": 32,
     "metadata": {},
     "output_type": "execute_result"
    }
   ],
   "source": [
    "#Below you can see all the sample_ids which have two ore more different transaction types and \n",
    "#along with their transaction types\n",
    "mask=df_clean_gby.sample_id.value_counts(ascending=False)==2\n",
    "indices=df_clean_gby.sample_id.value_counts(ascending=False).loc[mask].index.to_list()\n",
    "df_clean.set_index('sample_id').loc[indices,:]"
   ]
  },
  {
   "cell_type": "markdown",
   "id": "f44ff044",
   "metadata": {},
   "source": [
    "**The code below shows the `sample_ids`that have only one type of transaction**"
   ]
  },
  {
   "cell_type": "code",
   "execution_count": 33,
   "id": "d5e30c63",
   "metadata": {},
   "outputs": [
    {
     "data": {
      "text/html": [
       "<div>\n",
       "<style scoped>\n",
       "    .dataframe tbody tr th:only-of-type {\n",
       "        vertical-align: middle;\n",
       "    }\n",
       "\n",
       "    .dataframe tbody tr th {\n",
       "        vertical-align: top;\n",
       "    }\n",
       "\n",
       "    .dataframe thead th {\n",
       "        text-align: right;\n",
       "    }\n",
       "</style>\n",
       "<table border=\"1\" class=\"dataframe\">\n",
       "  <thead>\n",
       "    <tr style=\"text-align: right;\">\n",
       "      <th></th>\n",
       "      <th>sample_id</th>\n",
       "      <th>group</th>\n",
       "      <th>transaction_id</th>\n",
       "      <th>transaction_type</th>\n",
       "      <th>transaction_amount</th>\n",
       "    </tr>\n",
       "  </thead>\n",
       "  <tbody>\n",
       "    <tr>\n",
       "      <th>0</th>\n",
       "      <td>30155</td>\n",
       "      <td>test</td>\n",
       "      <td>52349975</td>\n",
       "      <td>rebill</td>\n",
       "      <td>39.95</td>\n",
       "    </tr>\n",
       "    <tr>\n",
       "      <th>1</th>\n",
       "      <td>30155</td>\n",
       "      <td>test</td>\n",
       "      <td>52349976</td>\n",
       "      <td>rebill</td>\n",
       "      <td>39.95</td>\n",
       "    </tr>\n",
       "    <tr>\n",
       "      <th>2</th>\n",
       "      <td>30155</td>\n",
       "      <td>test</td>\n",
       "      <td>52349977</td>\n",
       "      <td>rebill</td>\n",
       "      <td>39.95</td>\n",
       "    </tr>\n",
       "    <tr>\n",
       "      <th>3</th>\n",
       "      <td>30155</td>\n",
       "      <td>test</td>\n",
       "      <td>52349978</td>\n",
       "      <td>rebill</td>\n",
       "      <td>39.95</td>\n",
       "    </tr>\n",
       "    <tr>\n",
       "      <th>4</th>\n",
       "      <td>45303</td>\n",
       "      <td>test</td>\n",
       "      <td>52351941</td>\n",
       "      <td>rebill</td>\n",
       "      <td>29.95</td>\n",
       "    </tr>\n",
       "    <tr>\n",
       "      <th>...</th>\n",
       "      <td>...</td>\n",
       "      <td>...</td>\n",
       "      <td>...</td>\n",
       "      <td>...</td>\n",
       "      <td>...</td>\n",
       "    </tr>\n",
       "    <tr>\n",
       "      <th>7374</th>\n",
       "      <td>9964</td>\n",
       "      <td>control</td>\n",
       "      <td>52347534</td>\n",
       "      <td>refund</td>\n",
       "      <td>-32.95</td>\n",
       "    </tr>\n",
       "    <tr>\n",
       "      <th>7375</th>\n",
       "      <td>9964</td>\n",
       "      <td>control</td>\n",
       "      <td>52347535</td>\n",
       "      <td>refund</td>\n",
       "      <td>-32.95</td>\n",
       "    </tr>\n",
       "    <tr>\n",
       "      <th>7376</th>\n",
       "      <td>9964</td>\n",
       "      <td>control</td>\n",
       "      <td>52347536</td>\n",
       "      <td>refund</td>\n",
       "      <td>-32.95</td>\n",
       "    </tr>\n",
       "    <tr>\n",
       "      <th>7377</th>\n",
       "      <td>9964</td>\n",
       "      <td>control</td>\n",
       "      <td>52347537</td>\n",
       "      <td>refund</td>\n",
       "      <td>-32.95</td>\n",
       "    </tr>\n",
       "    <tr>\n",
       "      <th>7378</th>\n",
       "      <td>50568</td>\n",
       "      <td>test</td>\n",
       "      <td>52352598</td>\n",
       "      <td>rebill</td>\n",
       "      <td>24.95</td>\n",
       "    </tr>\n",
       "  </tbody>\n",
       "</table>\n",
       "<p>7379 rows × 5 columns</p>\n",
       "</div>"
      ],
      "text/plain": [
       "     sample_id    group  transaction_id transaction_type  transaction_amount\n",
       "0        30155     test        52349975           rebill               39.95\n",
       "1        30155     test        52349976           rebill               39.95\n",
       "2        30155     test        52349977           rebill               39.95\n",
       "3        30155     test        52349978           rebill               39.95\n",
       "4        45303     test        52351941           rebill               29.95\n",
       "...        ...      ...             ...              ...                 ...\n",
       "7374      9964  control        52347534           refund              -32.95\n",
       "7375      9964  control        52347535           refund              -32.95\n",
       "7376      9964  control        52347536           refund              -32.95\n",
       "7377      9964  control        52347537           refund              -32.95\n",
       "7378     50568     test        52352598           rebill               24.95\n",
       "\n",
       "[7379 rows x 5 columns]"
      ]
     },
     "execution_count": 33,
     "metadata": {},
     "output_type": "execute_result"
    }
   ],
   "source": [
    "mask=df_clean_gby.sample_id.value_counts(ascending=False)==1\n",
    "indices=df_clean_gby.sample_id.value_counts(ascending=False).loc[mask].index.to_list()\n",
    "df_clean.set_index('sample_id').loc[indices,:].reset_index()"
   ]
  },
  {
   "cell_type": "markdown",
   "id": "4edcf035",
   "metadata": {},
   "source": [
    "**The code below shows the `sample_ids` that have only one type of transaction more than one time**"
   ]
  },
  {
   "cell_type": "code",
   "execution_count": 34,
   "id": "d145076e",
   "metadata": {},
   "outputs": [
    {
     "data": {
      "text/html": [
       "<div>\n",
       "<style scoped>\n",
       "    .dataframe tbody tr th:only-of-type {\n",
       "        vertical-align: middle;\n",
       "    }\n",
       "\n",
       "    .dataframe tbody tr th {\n",
       "        vertical-align: top;\n",
       "    }\n",
       "\n",
       "    .dataframe thead th {\n",
       "        text-align: right;\n",
       "    }\n",
       "</style>\n",
       "<table border=\"1\" class=\"dataframe\">\n",
       "  <thead>\n",
       "    <tr style=\"text-align: right;\">\n",
       "      <th></th>\n",
       "      <th>sample_id</th>\n",
       "      <th>transaction_type</th>\n",
       "      <th>count</th>\n",
       "    </tr>\n",
       "  </thead>\n",
       "  <tbody>\n",
       "    <tr>\n",
       "      <th>1</th>\n",
       "      <td>10008</td>\n",
       "      <td>rebill</td>\n",
       "      <td>5</td>\n",
       "    </tr>\n",
       "    <tr>\n",
       "      <th>3</th>\n",
       "      <td>10037</td>\n",
       "      <td>rebill</td>\n",
       "      <td>2</td>\n",
       "    </tr>\n",
       "    <tr>\n",
       "      <th>6</th>\n",
       "      <td>10099</td>\n",
       "      <td>rebill</td>\n",
       "      <td>5</td>\n",
       "    </tr>\n",
       "    <tr>\n",
       "      <th>7</th>\n",
       "      <td>1010</td>\n",
       "      <td>rebill</td>\n",
       "      <td>2</td>\n",
       "    </tr>\n",
       "    <tr>\n",
       "      <th>8</th>\n",
       "      <td>10101</td>\n",
       "      <td>refund</td>\n",
       "      <td>8</td>\n",
       "    </tr>\n",
       "    <tr>\n",
       "      <th>...</th>\n",
       "      <td>...</td>\n",
       "      <td>...</td>\n",
       "      <td>...</td>\n",
       "    </tr>\n",
       "    <tr>\n",
       "      <th>2693</th>\n",
       "      <td>9808</td>\n",
       "      <td>rebill</td>\n",
       "      <td>3</td>\n",
       "    </tr>\n",
       "    <tr>\n",
       "      <th>2694</th>\n",
       "      <td>9823</td>\n",
       "      <td>rebill</td>\n",
       "      <td>5</td>\n",
       "    </tr>\n",
       "    <tr>\n",
       "      <th>2695</th>\n",
       "      <td>9854</td>\n",
       "      <td>rebill</td>\n",
       "      <td>2</td>\n",
       "    </tr>\n",
       "    <tr>\n",
       "      <th>2701</th>\n",
       "      <td>9964</td>\n",
       "      <td>refund</td>\n",
       "      <td>4</td>\n",
       "    </tr>\n",
       "    <tr>\n",
       "      <th>2702</th>\n",
       "      <td>9982</td>\n",
       "      <td>rebill</td>\n",
       "      <td>4</td>\n",
       "    </tr>\n",
       "  </tbody>\n",
       "</table>\n",
       "<p>1619 rows × 3 columns</p>\n",
       "</div>"
      ],
      "text/plain": [
       "     sample_id transaction_type  count\n",
       "1        10008           rebill      5\n",
       "3        10037           rebill      2\n",
       "6        10099           rebill      5\n",
       "7         1010           rebill      2\n",
       "8        10101           refund      8\n",
       "...        ...              ...    ...\n",
       "2693      9808           rebill      3\n",
       "2694      9823           rebill      5\n",
       "2695      9854           rebill      2\n",
       "2701      9964           refund      4\n",
       "2702      9982           rebill      4\n",
       "\n",
       "[1619 rows x 3 columns]"
      ]
     },
     "execution_count": 34,
     "metadata": {},
     "output_type": "execute_result"
    }
   ],
   "source": [
    "df_count=df_clean.set_index('sample_id').loc[indices,:].reset_index().groupby(\n",
    "    by=['sample_id','transaction_type'])['transaction_id'].count().reset_index().rename(columns={'transaction_id':'count'})\n",
    "df_count.query('count>1')"
   ]
  },
  {
   "cell_type": "markdown",
   "id": "4fdb9bc1",
   "metadata": {},
   "source": [
    "**The code below shows the `sample_ids` that have multiple refunds or multiple chargebacks only**"
   ]
  },
  {
   "cell_type": "code",
   "execution_count": 35,
   "id": "9182ed8c",
   "metadata": {},
   "outputs": [
    {
     "data": {
      "text/html": [
       "<div>\n",
       "<style scoped>\n",
       "    .dataframe tbody tr th:only-of-type {\n",
       "        vertical-align: middle;\n",
       "    }\n",
       "\n",
       "    .dataframe tbody tr th {\n",
       "        vertical-align: top;\n",
       "    }\n",
       "\n",
       "    .dataframe thead th {\n",
       "        text-align: right;\n",
       "    }\n",
       "</style>\n",
       "<table border=\"1\" class=\"dataframe\">\n",
       "  <thead>\n",
       "    <tr style=\"text-align: right;\">\n",
       "      <th></th>\n",
       "      <th>sample_id</th>\n",
       "      <th>transaction_type</th>\n",
       "      <th>count</th>\n",
       "    </tr>\n",
       "  </thead>\n",
       "  <tbody>\n",
       "    <tr>\n",
       "      <th>8</th>\n",
       "      <td>10101</td>\n",
       "      <td>refund</td>\n",
       "      <td>8</td>\n",
       "    </tr>\n",
       "    <tr>\n",
       "      <th>61</th>\n",
       "      <td>11018</td>\n",
       "      <td>refund</td>\n",
       "      <td>6</td>\n",
       "    </tr>\n",
       "    <tr>\n",
       "      <th>99</th>\n",
       "      <td>11684</td>\n",
       "      <td>refund</td>\n",
       "      <td>2</td>\n",
       "    </tr>\n",
       "    <tr>\n",
       "      <th>106</th>\n",
       "      <td>1178</td>\n",
       "      <td>refund</td>\n",
       "      <td>2</td>\n",
       "    </tr>\n",
       "    <tr>\n",
       "      <th>133</th>\n",
       "      <td>12365</td>\n",
       "      <td>refund</td>\n",
       "      <td>3</td>\n",
       "    </tr>\n",
       "    <tr>\n",
       "      <th>...</th>\n",
       "      <td>...</td>\n",
       "      <td>...</td>\n",
       "      <td>...</td>\n",
       "    </tr>\n",
       "    <tr>\n",
       "      <th>2561</th>\n",
       "      <td>7199</td>\n",
       "      <td>refund</td>\n",
       "      <td>5</td>\n",
       "    </tr>\n",
       "    <tr>\n",
       "      <th>2585</th>\n",
       "      <td>7611</td>\n",
       "      <td>refund</td>\n",
       "      <td>3</td>\n",
       "    </tr>\n",
       "    <tr>\n",
       "      <th>2600</th>\n",
       "      <td>7887</td>\n",
       "      <td>chargeback</td>\n",
       "      <td>5</td>\n",
       "    </tr>\n",
       "    <tr>\n",
       "      <th>2676</th>\n",
       "      <td>957</td>\n",
       "      <td>refund</td>\n",
       "      <td>2</td>\n",
       "    </tr>\n",
       "    <tr>\n",
       "      <th>2701</th>\n",
       "      <td>9964</td>\n",
       "      <td>refund</td>\n",
       "      <td>4</td>\n",
       "    </tr>\n",
       "  </tbody>\n",
       "</table>\n",
       "<p>113 rows × 3 columns</p>\n",
       "</div>"
      ],
      "text/plain": [
       "     sample_id transaction_type  count\n",
       "8        10101           refund      8\n",
       "61       11018           refund      6\n",
       "99       11684           refund      2\n",
       "106       1178           refund      2\n",
       "133      12365           refund      3\n",
       "...        ...              ...    ...\n",
       "2561      7199           refund      5\n",
       "2585      7611           refund      3\n",
       "2600      7887       chargeback      5\n",
       "2676       957           refund      2\n",
       "2701      9964           refund      4\n",
       "\n",
       "[113 rows x 3 columns]"
      ]
     },
     "execution_count": 35,
     "metadata": {},
     "output_type": "execute_result"
    }
   ],
   "source": [
    "df_count.query('count>1').query(\"(transaction_type=='refund')|(transaction_type=='chargeback')\")"
   ]
  },
  {
   "cell_type": "markdown",
   "id": "8dd7103a",
   "metadata": {},
   "source": [
    "**Note.** As mentioned before, there is no any information whether the data is for one billing cycle or multiple billing cycles. If it refers to one billing cycle then what is the interpretaion of the entries with multiple transactions. If the data referes to multiple billing cylces then what is the interpretation of entries thathave multiple refunds or chargebacks only. We decided to continue our analysis with the assumption that the data is for one billing cycle. As a result,we decided to clean the `df_clean` further by removing the duplicate `sample_ids` and call the resulting dataframe by `df_clean_nodup` (See the code below)"
   ]
  },
  {
   "cell_type": "code",
   "execution_count": 36,
   "id": "2c22291e",
   "metadata": {},
   "outputs": [
    {
     "data": {
      "text/html": [
       "<div>\n",
       "<style scoped>\n",
       "    .dataframe tbody tr th:only-of-type {\n",
       "        vertical-align: middle;\n",
       "    }\n",
       "\n",
       "    .dataframe tbody tr th {\n",
       "        vertical-align: top;\n",
       "    }\n",
       "\n",
       "    .dataframe thead th {\n",
       "        text-align: right;\n",
       "    }\n",
       "</style>\n",
       "<table border=\"1\" class=\"dataframe\">\n",
       "  <thead>\n",
       "    <tr style=\"text-align: right;\">\n",
       "      <th></th>\n",
       "      <th>sample_id</th>\n",
       "      <th>group</th>\n",
       "      <th>transaction_id</th>\n",
       "      <th>transaction_type</th>\n",
       "      <th>transaction_amount</th>\n",
       "    </tr>\n",
       "  </thead>\n",
       "  <tbody>\n",
       "    <tr>\n",
       "      <th>0</th>\n",
       "      <td>11</td>\n",
       "      <td>test</td>\n",
       "      <td>52346326</td>\n",
       "      <td>rebill</td>\n",
       "      <td>24.95</td>\n",
       "    </tr>\n",
       "    <tr>\n",
       "      <th>2</th>\n",
       "      <td>32</td>\n",
       "      <td>test</td>\n",
       "      <td>52346328</td>\n",
       "      <td>rebill</td>\n",
       "      <td>29.95</td>\n",
       "    </tr>\n",
       "    <tr>\n",
       "      <th>6</th>\n",
       "      <td>103</td>\n",
       "      <td>control</td>\n",
       "      <td>52346332</td>\n",
       "      <td>rebill</td>\n",
       "      <td>19.95</td>\n",
       "    </tr>\n",
       "    <tr>\n",
       "      <th>17</th>\n",
       "      <td>109</td>\n",
       "      <td>control</td>\n",
       "      <td>52346343</td>\n",
       "      <td>rebill</td>\n",
       "      <td>19.95</td>\n",
       "    </tr>\n",
       "    <tr>\n",
       "      <th>18</th>\n",
       "      <td>127</td>\n",
       "      <td>control</td>\n",
       "      <td>52346344</td>\n",
       "      <td>rebill</td>\n",
       "      <td>32.95</td>\n",
       "    </tr>\n",
       "  </tbody>\n",
       "</table>\n",
       "</div>"
      ],
      "text/plain": [
       "   sample_id    group  transaction_id transaction_type  transaction_amount\n",
       "0         11     test        52346326           rebill               24.95\n",
       "2         32     test        52346328           rebill               29.95\n",
       "6        103  control        52346332           rebill               19.95\n",
       "17       109  control        52346343           rebill               19.95\n",
       "18       127  control        52346344           rebill               32.95"
      ]
     },
     "execution_count": 36,
     "metadata": {},
     "output_type": "execute_result"
    }
   ],
   "source": [
    "df_clean_nodup=df_clean.drop_duplicates(subset=['sample_id'])\n",
    "df_clean_nodup.head()"
   ]
  },
  {
   "cell_type": "markdown",
   "id": "b7e33c86",
   "metadata": {},
   "source": [
    "## Part II: Analyzing A/B test results\n",
    "The company has posed the following questions and it is seeking to find answers to these questions:\n",
    "1. What is the aproximate probability distribution between the test group and the control group?\n",
    "2. Is a user that must call-in to cancel more likely to generate at least 1 addition REBILL?\n",
    "3. Is a user that must call-in to cancel more likely to generate more revenues?\n",
    "4. Is a user that must call-in more likely to produce a higher chargeback rate(CHARGEBACKs/REBILLs)?\n"
   ]
  },
  {
   "cell_type": "markdown",
   "id": "c3c9886e",
   "metadata": {},
   "source": [
    "### Question 1: \n",
    "What is the aproximate probability distribution between the test group and the control group?\n",
    "\n",
    "### Answer to question 1: \n",
    "We will look at df_clean_nodup and see the proportion of sample ids in control group and  the proportion of sample ids in test group"
   ]
  },
  {
   "cell_type": "code",
   "execution_count": 37,
   "id": "87274ebb",
   "metadata": {},
   "outputs": [
    {
     "data": {
      "text/plain": [
       "test       60.243183\n",
       "control    39.756817\n",
       "Name: group, dtype: float64"
      ]
     },
     "execution_count": 37,
     "metadata": {},
     "output_type": "execute_result"
    }
   ],
   "source": [
    "df_clean_nodup.group.value_counts(normalize=True)*100"
   ]
  },
  {
   "cell_type": "code",
   "execution_count": 38,
   "id": "3852b4f5",
   "metadata": {},
   "outputs": [
    {
     "data": {
      "image/png": "[encoded data removed]",
      "text/plain": [
       "<Figure size 432x288 with 1 Axes>"
      ]
     },
     "metadata": {},
     "output_type": "display_data"
    }
   ],
   "source": [
    "(df_clean_nodup.group.value_counts(normalize=True)*100).plot(kind='bar',rot=0,color=['red','green'],\n",
    "                                         ylabel='Proportion of people per group \\n measured in (%)')\n",
    "plt.title('Probability distribution',fontsize=15);"
   ]
  },
  {
   "cell_type": "markdown",
   "id": "ef2d617e",
   "metadata": {},
   "source": [
    "### Question 2:\n",
    "\n",
    "Is a user that must call-in to cancel more likely to generate at least 1 addition REBILL?\n",
    "\n",
    "**Plan to tackle this question:**\n",
    "* Come up with correct metric which will helup us answer the question\n",
    "* Rephrase the question in terms of hypotheses testing\n",
    "* Use statistical tools to check the hypotheses\n",
    "\n",
    "**Note.** To answer this question, we will use statistical tools such as (bootstrap method and built-in method `proportions_ztest`)"
   ]
  },
  {
   "cell_type": "markdown",
   "id": "fecef82d",
   "metadata": {},
   "source": [
    "### Answer to Question 2:\n",
    "* Metric=KPI=$\\frac{\\text{number of rebills per group}}{\\text{number of people in the group}}$.\n",
    "\n",
    "So,\n",
    "\n",
    "$p_{t}=\\frac{\\text{number of rebills in the test group}}{\\text{number of people in the test group}}$.\n",
    "\n",
    "$p_{c}=\\frac{\\text{number of rebills in the control group}}{\\text{number of people in the control group}}$.\n",
    "\n",
    "* Hypothesis formulation:\n",
    "\n",
    "$H_{0}: p_{c}\\geq p_{t} \\hspace{2cm} H_{1}: p_{t}> p_{c} $\n"
   ]
  },
  {
   "cell_type": "markdown",
   "id": "e9e88c67",
   "metadata": {},
   "source": [
    "### Bootstrap approach\n",
    "\n",
    "1. Compute $p_{c}$ and $p_{t}$ under $H_{0}$ i.e $p_{c}=p_{t}$\n",
    "\n",
    "2. Compute \n",
    "   * $n_{c}=$ number of people in the control group\n",
    "   * $n_{t}=$ number of people in the test group\n",
    "3. Resample $n_{t}$ transactions with $p_{t}$ and $n_{c}$ transactions with $p_{c}$ \n",
    "   and compute $p_{\\text{t_simul}}$ and $p_{\\text{c_simul}}$ and their difference\n",
    "4. Repeat the step 3 $N$ times.\n",
    "5. Compute the actual diffirence between two groups and the $p$-value.\n",
    "6. Draw the conclusions at the level of significance of $\\alpha=0.05$ (P(Type I error))\n",
    "\n",
    "\n",
    "  "
   ]
  },
  {
   "cell_type": "code",
   "execution_count": 39,
   "id": "87f6fdc8",
   "metadata": {},
   "outputs": [
    {
     "name": "stdout",
     "output_type": "stream",
     "text": [
      "The probability to have rebill is 0.9200442151805454 \n"
     ]
    }
   ],
   "source": [
    "#p_c, p_t under Ho\n",
    "p_c=(df_clean_nodup['transaction_type']=='rebill').mean()\n",
    "p_t=(df_clean_nodup['transaction_type']=='rebill').mean()\n",
    "print(f'The probability to have rebill is {p_c} ')"
   ]
  },
  {
   "cell_type": "code",
   "execution_count": 40,
   "id": "031809e7",
   "metadata": {},
   "outputs": [
    {
     "name": "stdout",
     "output_type": "stream",
     "text": [
      "The numper of people in the control group is 1079 and the number of people in the test group is 1635 \n"
     ]
    }
   ],
   "source": [
    "#Compute n_c,n_t\n",
    "nc=(df_clean_nodup['group']=='control').sum()\n",
    "nt=(df_clean_nodup['group']=='test').sum()\n",
    "print(f'The numper of people in the control group is {nc}\\\n",
    " and the number of people in the test group is {nt} ')"
   ]
  },
  {
   "cell_type": "code",
   "execution_count": 41,
   "id": "f8719c95",
   "metadata": {},
   "outputs": [],
   "source": [
    "#compute pt_simul and pc_simul and their difference and then repeat the process N times\n",
    "def get_psimul(test_size,control_size,N,prob):\n",
    "    test_simul=np.random.choice(['rebill','norebill'],size=(test_size,N),p=[prob,1-prob])\n",
    "    control_simul=np.random.choice(['rebill','norebill'],size=(control_size,N),p=[prob,1-prob])\n",
    "    p_diff=(test_simul=='rebill').mean(axis=0)-(control_simul=='rebill').mean(axis=0)\n",
    "    return p_diff\n",
    "    "
   ]
  },
  {
   "cell_type": "code",
   "execution_count": 42,
   "id": "c799ed3c",
   "metadata": {},
   "outputs": [],
   "source": [
    "#compute the actual difference\n",
    "act_diff=(df_clean_nodup.query('group==\"test\"')['transaction_type']=='rebill').mean()-(df_clean_nodup.query('group==\"control\"')['transaction_type']=='rebill').mean()"
   ]
  },
  {
   "cell_type": "code",
   "execution_count": 43,
   "id": "bb01fc63",
   "metadata": {},
   "outputs": [
    {
     "name": "stdout",
     "output_type": "stream",
     "text": [
      "The p-value is 0.0\n",
      "We reject the null hypothesis\n"
     ]
    }
   ],
   "source": [
    "#Compute the pval with N=10000 simulations and decide whether to reject H0 or not under H0\n",
    "p_diff=get_psimul(nt,nc,10000,p_t)\n",
    "pval=(p_diff>act_diff).mean()\n",
    "alpha=0.5\n",
    "print(f'The p-value is {pval}')\n",
    "if pval<alpha:\n",
    "    print('We reject the null hypothesis')\n",
    "else:\n",
    "    print('We fail to reject the null hypothesis ')"
   ]
  },
  {
   "cell_type": "code",
   "execution_count": 44,
   "id": "1fb74144",
   "metadata": {},
   "outputs": [
    {
     "data": {
      "image/png": "[encoded data removed]",
      "text/plain": [
       "<Figure size 432x288 with 1 Axes>"
      ]
     },
     "metadata": {},
     "output_type": "display_data"
    }
   ],
   "source": [
    "#Let's visualize the distribution of p_diff and see where the act_diff is placed\n",
    "plt.hist(p_diff,bins=50,density=True)\n",
    "plt.title(\"Normal Appproximation\")\n",
    "plt.xlabel(\"Proportion differences under $H_{0}$\",fontsize=13)\n",
    "plt.ylabel(\"Frequency\")\n",
    "plt.axvline(act_diff,color='red',ls='--')\n",
    "plt.text(0.045,30,'Observed\\nDifference');"
   ]
  },
  {
   "cell_type": "markdown",
   "id": "c93e4d90",
   "metadata": {},
   "source": [
    "We can see from the above picture that the distribution of the simulated differences of proportions is approximated very well by the Normal Distribution. This fact can be justified by the Central Limit Theorem. Also, the actual difference in proortions between two groups lies very far to the right of the bulk of the distribution of the simulated differences."
   ]
  },
  {
   "cell_type": "markdown",
   "id": "1a7e600d",
   "metadata": {},
   "source": [
    "### proportions_ztest\n",
    "\n",
    "Let's check the difference in the proportions between two groups by using the built-in method proportions_ztest"
   ]
  },
  {
   "cell_type": "code",
   "execution_count": 45,
   "id": "aece8091",
   "metadata": {},
   "outputs": [
    {
     "name": "stdout",
     "output_type": "stream",
     "text": [
      " The p-value is equal to 3.702680345180694e-14 and the z-statistic is equal to 7.480476505630833\n"
     ]
    }
   ],
   "source": [
    "test_group=df_clean_nodup.query('group==\"test\"')['transaction_type']\n",
    "control_group=df_clean_nodup.query('group==\"control\"')['transaction_type']\n",
    "nt=test_group.shape[0] #number of people in the test group\n",
    "nc=control_group.shape[0]#number of people in the control group\n",
    "count=np.array([(test_group=='rebill').sum(),(control_group=='rebill').sum()]) \n",
    "# of rebills in each group\n",
    "nobs=np.array([nt,nc])#of obervations in both groups\n",
    "zstat,pval=proportions_ztest(count,nobs,alternative='larger')\n",
    "print(f' The p-value is equal to {pval} and the z-statistic is equal to {zstat}')"
   ]
  },
  {
   "cell_type": "markdown",
   "id": "816251ed",
   "metadata": {},
   "source": [
    "### Conclusion for Question 2:\n",
    "* Both tests showed that we reject the $H_{0}$ when $\\alpha=0.05$ or even when      $\\alpha=0.01$. This can also be seen from our z-static computed from built-in method: zstatistic=7.48>$z_{0.05}=1.645$. Rejection of the null hypothesis means that the difference in proportions between two groups is  statisticaly significant.\n",
    "\n",
    "* Also, we need to ask ourselves whether there is a practical significance (the actual difference in proportions is 7%)in the difference of two proportions and what the power (1-Prob(Type II error) of our test is. We will not analyze these points here.\n",
    "* We could also conduct regression analysis to check our hypothesis but this path will not be taken here.\n",
    "\n",
    "**Note.** The analysis would've been slightly different if we had adopted a different approach of cleaning the data, for example, considering duplicates only the entries\n",
    "that correspond to sample ids that have only refunds  or only chargebacks more than one time."
   ]
  },
  {
   "cell_type": "markdown",
   "id": "0f11ee53",
   "metadata": {},
   "source": [
    "### Question 3:\n",
    "\n",
    "Is a user that must call-in to cancel more likely to generate more revenues?\n",
    "\n",
    "**Plan to tackle this question:**\n",
    "* Come up with correct metric which will help us answer the question\n",
    "* Rephrase the question in terms of hypotheses testing\n",
    "* Use statistical tools to check the hypotheses\n",
    "\n",
    "**Note**. We will use the bootstrap approach, the built-in python stats.ttest and the linear regression approach"
   ]
  },
  {
   "cell_type": "markdown",
   "id": "d7d74949",
   "metadata": {},
   "source": [
    "### Answer to Question 3:\n",
    "* Metric=KPI=average of transaction amounts\n",
    "\n",
    "So,\n",
    "\n",
    "\n",
    "$a_{c}$=average of transaction amounts in the control group\n",
    "\n",
    "$a_{t}$=average of transaction amounts in the test group\n",
    "\n",
    "* Hypothesis formulation\n",
    "\n",
    "$H_{0}: a_{c}\\geq a_{t} \\hspace{5cm} H_{1}: a_{c}<a_{t}$"
   ]
  },
  {
   "cell_type": "markdown",
   "id": "07c30f24",
   "metadata": {},
   "source": [
    "### Bootstrap approach:\n",
    "1. Compute the average (mean) of `transaction_amount` before placing them in the groups\n",
    "2. Since we work under null hypothesis: we need to shift the transaction amounts in each group by a suitabe quantity so that the groups have the same average\n",
    "3. Resample the shifted data from each group and compute the difference of $a_{c}$ and $a_{t}$\n",
    "4. Repeat the step 3 for $N$ times and store $a_{t}-a_{c}$ in `av_diff`\n",
    "5. Compute the actual diffirence between two groups and the $p$-value.\n",
    "6. Draw the conclusions at the level of significance of $\\alpha=0.05$ (P(Type I error))\n"
   ]
  },
  {
   "cell_type": "code",
   "execution_count": 46,
   "id": "b2743803",
   "metadata": {},
   "outputs": [
    {
     "name": "stdout",
     "output_type": "stream",
     "text": [
      "The mean of the population is 24.92483419307191\n"
     ]
    }
   ],
   "source": [
    "mean=df_clean_nodup['transaction_amount'].mean()\n",
    "print(f'The mean of the population is {mean}')"
   ]
  },
  {
   "cell_type": "code",
   "execution_count": 47,
   "id": "c4898609",
   "metadata": {},
   "outputs": [],
   "source": [
    "#Shift the data\n",
    "a_c=df_clean_nodup.query('group==\"control\"')['transaction_amount'].mean()#mean of the control group\n",
    "a_t=df_clean_nodup.query('group==\"test\"')['transaction_amount'].mean()#mean of the test group\n",
    "data_c_shift=df_clean_nodup.query('group==\"control\"')[\"transaction_amount\"]-a_c+mean\n",
    "data_t_shift=df_clean_nodup.query('group==\"test\"')[\"transaction_amount\"]-a_t+mean\n",
    "\n",
    " "
   ]
  },
  {
   "cell_type": "code",
   "execution_count": 48,
   "id": "49644e8d",
   "metadata": {},
   "outputs": [],
   "source": [
    "def bootstrap_rep_1d(data,func):\n",
    "    \"\"\"This function computes the value of the function\n",
    "    func at a bootstrap sample\n",
    "    \"\"\"\n",
    "    bs_sample=np.random.choice(data,len(data))\n",
    "    return func(bs_sample)\n",
    "def bootstrap_reps(data,func,N):\n",
    "    \"\"\"This function computes the N replicates of bootstrap_rep_1d\"\"\"\n",
    "    bs_replicates=np.empty(N)\n",
    "    for i in range(N):\n",
    "        bs_replicates[i]=bootstrap_rep_1d(data,func)\n",
    "    return bs_replicates\n",
    "        \n"
   ]
  },
  {
   "cell_type": "code",
   "execution_count": 49,
   "id": "98c18b3b",
   "metadata": {},
   "outputs": [],
   "source": [
    "#N=10000\n",
    "replicates_test=bootstrap_reps(data_t_shift,np.mean,N=10000)\n",
    "replicates_control=bootstrap_reps(data_c_shift,np.mean,N=10000)\n",
    "av_diff=replicates_test-replicates_control"
   ]
  },
  {
   "cell_type": "code",
   "execution_count": 50,
   "id": "643215e6",
   "metadata": {},
   "outputs": [
    {
     "name": "stdout",
     "output_type": "stream",
     "text": [
      "The p-value is 0.0\n",
      "We have enough evidence to reject the null hypothesis at the level of significance 0.05\n"
     ]
    }
   ],
   "source": [
    "#Compute the p-value\n",
    "alpha=0.05\n",
    "act_diff=a_t-a_c\n",
    "pval=(av_diff>act_diff).mean()\n",
    "print(f'The p-value is {pval}')\n",
    "if pval<alpha:\n",
    "    print(f'We have enough evidence to reject the null hypothesis at the level of significance {alpha}')\n",
    "else:\n",
    "    print('We failed to reject the null hypothesis')"
   ]
  },
  {
   "cell_type": "markdown",
   "id": "73153a51",
   "metadata": {},
   "source": [
    "**Let's use the ttest to check our hypothesis**"
   ]
  },
  {
   "cell_type": "code",
   "execution_count": 51,
   "id": "a2babb2f",
   "metadata": {},
   "outputs": [
    {
     "name": "stdout",
     "output_type": "stream",
     "text": [
      "The p-value is 9.941724703667312e-42\n",
      "We have enough evidence to reject the null hypothesis at the level of significance 0.05\n"
     ]
    }
   ],
   "source": [
    "test_group=df_clean_nodup.query('group==\"test\"')['transaction_amount']\n",
    "control_group=df_clean_nodup.query('group==\"control\"')['transaction_amount']\n",
    "statistic,pval=stats.ttest_ind(test_group,control_group,alternative='greater',\n",
    "                               equal_var=False)\n",
    "print(f'The p-value is {pval}')\n",
    "if pval<alpha:\n",
    "    print(f'We have enough evidence to reject the null hypothesis at the level of significance {alpha}')\n",
    "else:\n",
    "    print('We failed to reject the null hypothesis')"
   ]
  },
  {
   "cell_type": "markdown",
   "id": "829db638",
   "metadata": {},
   "source": [
    "**Let's visualize the distributions of transaction_amount of each group**"
   ]
  },
  {
   "cell_type": "code",
   "execution_count": 52,
   "id": "ce474825",
   "metadata": {},
   "outputs": [
    {
     "data": {
      "image/png": "[encoded data removed]",
      "text/plain": [
       "<Figure size 648x360 with 2 Axes>"
      ]
     },
     "metadata": {},
     "output_type": "display_data"
    }
   ],
   "source": [
    "#Plot the viloins and the boxplots for each group\n",
    "fig,ax=plt.subplots(1,2,sharey=False,figsize=(9,5))\n",
    "sns.boxplot(x=\"group\",y=\"transaction_amount\",data=df_clean_nodup,ax=ax[0])\n",
    "sns.violinplot(x='group',y=\"transaction_amount\",data=df_clean_nodup,ax=ax[1])\n",
    "ax[1].set_ylabel(\"transaction amount\")\n",
    "plt.suptitle('The distribution of transaction amount for each group');"
   ]
  },
  {
   "cell_type": "code",
   "execution_count": 53,
   "id": "806f92c0",
   "metadata": {},
   "outputs": [
    {
     "data": {
      "image/png": "[encoded data removed]",
      "text/plain": [
       "<Figure size 432x288 with 1 Axes>"
      ]
     },
     "metadata": {},
     "output_type": "display_data"
    }
   ],
   "source": [
    "sns.histplot(x='transaction_amount',data=df_clean_nodup,hue='group',bins=20,multiple='stack')\n",
    "plt.xlim([-30,40])\n",
    "plt.title('Distribution of transaction amount');"
   ]
  },
  {
   "cell_type": "markdown",
   "id": "618a5e69",
   "metadata": {},
   "source": [
    "The above graphs show clearly the difference in the average revenue between two groups. They support our conclusion of rejecting the null hypothesis. Our conclusion of rejecting the null hypothesis can be reinforced more by a linear regression approach (see the code below)"
   ]
  },
  {
   "cell_type": "code",
   "execution_count": 54,
   "id": "170d02d9",
   "metadata": {},
   "outputs": [
    {
     "data": {
      "text/html": [
       "<table class=\"simpletable\">\n",
       "<caption>OLS Regression Results</caption>\n",
       "<tr>\n",
       "  <th>Dep. Variable:</th>    <td>transaction_amount</td> <th>  R-squared:         </th> <td>   0.070</td> \n",
       "</tr>\n",
       "<tr>\n",
       "  <th>Model:</th>                    <td>OLS</td>        <th>  Adj. R-squared:    </th> <td>   0.070</td> \n",
       "</tr>\n",
       "<tr>\n",
       "  <th>Method:</th>              <td>Least Squares</td>   <th>  F-statistic:       </th> <td>   205.6</td> \n",
       "</tr>\n",
       "<tr>\n",
       "  <th>Date:</th>              <td>Mon, 27 Jun 2022</td>  <th>  Prob (F-statistic):</th> <td>5.35e-45</td> \n",
       "</tr>\n",
       "<tr>\n",
       "  <th>Time:</th>                  <td>09:16:54</td>      <th>  Log-Likelihood:    </th> <td> -11409.</td> \n",
       "</tr>\n",
       "<tr>\n",
       "  <th>No. Observations:</th>       <td>  2714</td>       <th>  AIC:               </th> <td>2.282e+04</td>\n",
       "</tr>\n",
       "<tr>\n",
       "  <th>Df Residuals:</th>           <td>  2712</td>       <th>  BIC:               </th> <td>2.283e+04</td>\n",
       "</tr>\n",
       "<tr>\n",
       "  <th>Df Model:</th>               <td>     1</td>       <th>                     </th>     <td> </td>    \n",
       "</tr>\n",
       "<tr>\n",
       "  <th>Covariance Type:</th>       <td>nonrobust</td>     <th>                     </th>     <td> </td>    \n",
       "</tr>\n",
       "</table>\n",
       "<table class=\"simpletable\">\n",
       "<tr>\n",
       "      <td></td>         <th>coef</th>     <th>std err</th>      <th>t</th>      <th>P>|t|</th>  <th>[0.025</th>    <th>0.975]</th>  \n",
       "</tr>\n",
       "<tr>\n",
       "  <th>intercept</th> <td>   19.4345</td> <td>    0.493</td> <td>   39.394</td> <td> 0.000</td> <td>   18.467</td> <td>   20.402</td>\n",
       "</tr>\n",
       "<tr>\n",
       "  <th>test</th>      <td>    9.1136</td> <td>    0.636</td> <td>   14.338</td> <td> 0.000</td> <td>    7.867</td> <td>   10.360</td>\n",
       "</tr>\n",
       "</table>\n",
       "<table class=\"simpletable\">\n",
       "<tr>\n",
       "  <th>Omnibus:</th>       <td>1390.430</td> <th>  Durbin-Watson:     </th> <td>   1.970</td>\n",
       "</tr>\n",
       "<tr>\n",
       "  <th>Prob(Omnibus):</th>  <td> 0.000</td>  <th>  Jarque-Bera (JB):  </th> <td>7162.845</td>\n",
       "</tr>\n",
       "<tr>\n",
       "  <th>Skew:</th>           <td>-2.514</td>  <th>  Prob(JB):          </th> <td>    0.00</td>\n",
       "</tr>\n",
       "<tr>\n",
       "  <th>Kurtosis:</th>       <td> 9.169</td>  <th>  Cond. No.          </th> <td>    2.93</td>\n",
       "</tr>\n",
       "</table><br/><br/>Notes:<br/>[1] Standard Errors assume that the covariance matrix of the errors is correctly specified."
      ],
      "text/plain": [
       "<class 'statsmodels.iolib.summary.Summary'>\n",
       "\"\"\"\n",
       "                            OLS Regression Results                            \n",
       "==============================================================================\n",
       "Dep. Variable:     transaction_amount   R-squared:                       0.070\n",
       "Model:                            OLS   Adj. R-squared:                  0.070\n",
       "Method:                 Least Squares   F-statistic:                     205.6\n",
       "Date:                Mon, 27 Jun 2022   Prob (F-statistic):           5.35e-45\n",
       "Time:                        09:16:54   Log-Likelihood:                -11409.\n",
       "No. Observations:                2714   AIC:                         2.282e+04\n",
       "Df Residuals:                    2712   BIC:                         2.283e+04\n",
       "Df Model:                           1                                         \n",
       "Covariance Type:            nonrobust                                         \n",
       "==============================================================================\n",
       "                 coef    std err          t      P>|t|      [0.025      0.975]\n",
       "------------------------------------------------------------------------------\n",
       "intercept     19.4345      0.493     39.394      0.000      18.467      20.402\n",
       "test           9.1136      0.636     14.338      0.000       7.867      10.360\n",
       "==============================================================================\n",
       "Omnibus:                     1390.430   Durbin-Watson:                   1.970\n",
       "Prob(Omnibus):                  0.000   Jarque-Bera (JB):             7162.845\n",
       "Skew:                          -2.514   Prob(JB):                         0.00\n",
       "Kurtosis:                       9.169   Cond. No.                         2.93\n",
       "==============================================================================\n",
       "\n",
       "Notes:\n",
       "[1] Standard Errors assume that the covariance matrix of the errors is correctly specified.\n",
       "\"\"\""
      ]
     },
     "execution_count": 54,
     "metadata": {},
     "output_type": "execute_result"
    }
   ],
   "source": [
    "#Regression analysis\n",
    "df_reg=df_clean_nodup.copy()\n",
    "df_reg['intercept']=1\n",
    "df_reg['test']=pd.get_dummies(df_reg['group'])['test'] #We chose only one column to\n",
    "#avoid multicollinearity\n",
    "model=sm.OLS(df_reg['transaction_amount'],df_reg[['intercept','test']]).fit()\n",
    "model.summary()"
   ]
  },
  {
   "cell_type": "markdown",
   "id": "bb3d3bcf",
   "metadata": {},
   "source": [
    "The above summary shows that that there is an association between the variables `transaction_amount` and the `group`. In fact, if we introduce the following hypothesis:\n",
    "\n",
    "$H_{0}:b_{1}=0 \\hspace{3cm} H_{1}: b_{1}\\neq 0$\n",
    "\n",
    "where $b_{1}$ is the coefficient in front of the variable `test` in our linear regression model, then we reject the null hypothesis at the level of significance $\\alpha=0.05$ (pvalue. This means that the association (correlation) between the variables `transaction_amount` and the `group`is statistically significant.\n"
   ]
  },
  {
   "cell_type": "markdown",
   "id": "519b9a34",
   "metadata": {},
   "source": [
    "### Conclusion for Question 3:\n",
    "* The statisitcal methods that we implemented above show clearly that there is a statistically significant difference in the revenue between two groups. In fact, there is a strong evdence that the customers who can cancell the serevice by calling the customer line service bring more revenue.\n",
    "* We could also use the permutation test to check our hypothesis but this path will not be taken here.\n",
    "* The data seems to appear skewed. This fact can affect our conclusions from using the parametric statistical tools such as linear regression for example.\n",
    "* We might have skewed our data during the process of cleaning it."
   ]
  },
  {
   "cell_type": "markdown",
   "id": "73f6e924",
   "metadata": {},
   "source": [
    "### Question 4\n",
    "\n",
    "Is a user that must call-in more likely to produce a higher chargeback rate (CHARGEBACKs/REBILLs)?\n",
    "\n",
    "**Plan to tackle this question:**\n",
    "* Come up with correct metric which will help us answer the question\n",
    "* Rephrase the question in terms of hypotheses testing\n",
    "* Use statistical tools to check the hypotheses\n",
    "\n",
    "**Note.** We will use the bootstrap approach to answer this question"
   ]
  },
  {
   "cell_type": "markdown",
   "id": "89e6f372",
   "metadata": {},
   "source": [
    "### Answer to question 4\n",
    "* Metric= $\\frac{\\text{number of chargebacks}}{\\text{number of rebills}}$\n",
    "\n",
    "Let \n",
    "\n",
    "$r_{c}$=chargeback rate for the control group\n",
    "\n",
    "$r_{t}$=chargeback rate for the test group\n",
    "\n",
    "* Hypothesis formulation:\n",
    "\n",
    "$H_{0}: r_{c}\\leq r_{t} \\hspace{3cm} H_{1}: r_{t}>r_{c}$\n",
    "\n"
   ]
  },
  {
   "cell_type": "markdown",
   "id": "98e266b9",
   "metadata": {},
   "source": [
    "### Bootstrap approach\n",
    "\n",
    "1. Find $r_{c}$ and $r_{t}$ under $H_{0}$\n",
    "2. Resample data from each group and compute the simulated $r_{c}$, $r_{t}$ and their difference\n",
    "3. Repeat step 2 $N$ times and store $r_{t}-r_{c}$ in `rate_diff`\n",
    "4. Compute the actual diffirence between two groups and the $p$-value  \n",
    "5.  Draw the conclusions at the level of significance $\\alpha=0.05$\n",
    "\n",
    "\n"
   ]
  },
  {
   "cell_type": "markdown",
   "id": "650575d2",
   "metadata": {},
   "source": [
    "**Compute first p_reb, p_char under $H_{0}$**"
   ]
  },
  {
   "cell_type": "code",
   "execution_count": 55,
   "id": "1d69f5f3",
   "metadata": {},
   "outputs": [],
   "source": [
    "p_reb=(df_clean_nodup.transaction_type=='rebill').mean()\n",
    "p_char=(df_clean_nodup.transaction_type=='chargeback').mean()"
   ]
  },
  {
   "cell_type": "code",
   "execution_count": 56,
   "id": "2562ebb9",
   "metadata": {},
   "outputs": [],
   "source": [
    "def get_simul(test_size,control_size,N,prob):\n",
    "    \"\"\"This function returns simulated r_t and r_c\"\"\"\n",
    "    test_simul=np.random.choice(['rebill','chargeback','other'],size=(test_size,N),p=prob)\n",
    "    control_simul=np.random.choice(['rebill','chargeback','other'],size=(control_size,N),p=prob)\n",
    "    r_t=(test_simul=='chargeback').sum(axis=0)/(test_simul=='rebill').sum(axis=0)\n",
    "    r_c=(control_simul=='chargeback').sum(axis=0)/(control_simul=='rebill').sum(axis=0)\n",
    "    return r_t,r_c"
   ]
  },
  {
   "cell_type": "code",
   "execution_count": 57,
   "id": "43b86dff",
   "metadata": {},
   "outputs": [],
   "source": [
    "test_size=(df_clean_nodup['group']=='test').sum()\n",
    "control_size=(df_clean_nodup['group']=='control').sum()\n",
    "prob=[p_reb,p_char,1-(p_reb+p_char)]\n",
    "r_t,r_c=get_simul(test_size,control_size,N=10000,prob=prob)"
   ]
  },
  {
   "cell_type": "code",
   "execution_count": 58,
   "id": "5767ebe6",
   "metadata": {},
   "outputs": [],
   "source": [
    "rate_diff=r_t-r_c\n"
   ]
  },
  {
   "cell_type": "code",
   "execution_count": 59,
   "id": "75c57ef2",
   "metadata": {},
   "outputs": [],
   "source": [
    "#Let's compute the actual difference\n",
    "numerator_test=(df_clean_nodup.query('group==\"test\"')['transaction_type']=='chargeback').sum()\n",
    "denom_test=(df_clean_nodup.query('group==\"test\"')['transaction_type']=='rebill').sum()\n",
    "num_control=(df_clean_nodup.query('group==\"control\"')['transaction_type']=='chargeback').sum()\n",
    "denom_control=(df_clean_nodup.query('group==\"control\"')['transaction_type']=='rebill').sum()\n",
    "act_diff=numerator_test/denom_test-num_control/denom_control"
   ]
  },
  {
   "cell_type": "code",
   "execution_count": 60,
   "id": "53d98b52",
   "metadata": {},
   "outputs": [
    {
     "name": "stdout",
     "output_type": "stream",
     "text": [
      "The p-value is 1.0\n",
      "We failed to reject the null hypothesis\n"
     ]
    }
   ],
   "source": [
    "#Compute the p-value\n",
    "pval=(rate_diff>act_diff).mean()\n",
    "alpha=0.05\n",
    "print(f'The p-value is {pval}')\n",
    "if pval<alpha:\n",
    "    print('We reject the null hypothesis')\n",
    "else:\n",
    "    print('We failed to reject the null hypothesis')"
   ]
  },
  {
   "cell_type": "markdown",
   "id": "8c8c0b43",
   "metadata": {},
   "source": [
    "### Conclusion for Question 4:\n",
    "* We failed to reject the null hypothesis. In fact the p-value is very high, it is equl to one.\n",
    "* The analysis would be slightly different if we did the cleaning of the data differently"
   ]
  },
  {
   "cell_type": "code",
   "execution_count": null,
   "id": "209cd295",
   "metadata": {},
   "outputs": [],
   "source": []
  }
 ],
 "metadata": {
  "kernelspec": {
   "display_name": "Python 3",
   "language": "python",
   "name": "python3"
  },
  "language_info": {
   "codemirror_mode": {
    "name": "ipython",
    "version": 3
   },
   "file_extension": ".py",
   "mimetype": "text/x-python",
   "name": "python",
   "nbconvert_exporter": "python",
   "pygments_lexer": "ipython3",
   "version": "3.8.10"
  }
 },
 "nbformat": 4,
 "nbformat_minor": 5
}
